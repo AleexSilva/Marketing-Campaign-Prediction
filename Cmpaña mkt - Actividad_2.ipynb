{
 "cells": [
  {
   "cell_type": "markdown",
   "metadata": {
    "colab_type": "text",
    "id": "522zC-3dTQA-"
   },
   "source": [
    "Utilizando los datos de los clientes realizar las siguientes actividades:\n",
    "\n",
    "1. Analizar las variables involucradas\n",
    "\n",
    "2. Armar el dataset, crear variables nuevas si es necesario\n",
    "\n",
    "3.  Crear un modelo para predecir qué clientes responderán a la campaña (se adjuntan aparte los datos de la campaña 201804 para realizar el testing)\n",
    "\n",
    "4. Indicar la performance del/los modelos creados\n",
    "\n",
    "5. Describir el modelo y hacer una presentación para  mostrar los resultados al cliente\n",
    "\n",
    "\n"
   ]
  },
  {
   "cell_type": "code",
   "execution_count": 110,
   "metadata": {
    "colab": {
     "base_uri": "https://localhost:8080/",
     "height": 88
    },
    "colab_type": "code",
    "executionInfo": {
     "elapsed": 2521,
     "status": "ok",
     "timestamp": 1590370523637,
     "user": {
      "displayName": "Max L",
      "photoUrl": "https://lh3.googleusercontent.com/a-/AOh14GiiImxghgDBo0bBEM3wY7O7xE308CM12cvL2L25OA=s64",
      "userId": "16489755529424491377"
     },
     "user_tz": 180
    },
    "id": "OXgi6t8rjTqo",
    "outputId": "66e13c3b-3ee5-44f6-83b2-c690e5ca42bb"
   },
   "outputs": [
    {
     "name": "stderr",
     "output_type": "stream",
     "text": [
      "/usr/local/lib/python3.6/dist-packages/statsmodels/tools/_testing.py:19: FutureWarning: pandas.util.testing is deprecated. Use the functions in the public API at pandas.testing instead.\n",
      "  import pandas.util.testing as tm\n"
     ]
    },
    {
     "name": "stdout",
     "output_type": "stream",
     "text": [
      "Mounted at /content/gdrive/\n"
     ]
    }
   ],
   "source": [
    "import pandas as pd\n",
    "import numpy as np\n",
    "#import re\n",
    "#import random\n",
    "import os\n",
    "\n",
    "from datetime import date\n",
    "\n",
    "import matplotlib.pyplot as plt\n",
    "\n",
    "from sklearn.cluster import KMeans\n",
    "from scipy import stats\n",
    "\n",
    "import seaborn as sns\n",
    "\n",
    "from google.colab import drive\n",
    "#monto el gdrive\n",
    "drive.mount('/content/gdrive/', force_remount=True)\n",
    "\n"
   ]
  },
  {
   "cell_type": "code",
   "execution_count": 0,
   "metadata": {
    "colab": {},
    "colab_type": "code",
    "id": "3yD6d0wbgDgG"
   },
   "outputs": [],
   "source": [
    "os.chdir('gdrive/My Drive/MaestCienDatCAECE/2Año/MineriaDeDatosEmpresarial/Unidad_7_Mineria de datos para mkt y retail/Actividad_2')"
   ]
  },
  {
   "cell_type": "code",
   "execution_count": 0,
   "metadata": {
    "colab": {},
    "colab_type": "code",
    "id": "RH6Tj8f2gE-8"
   },
   "outputs": [],
   "source": [
    "!ls"
   ]
  },
  {
   "cell_type": "markdown",
   "metadata": {
    "colab_type": "text",
    "id": "RaCSR2vT-n4P"
   },
   "source": [
    "#Data load - Clientes"
   ]
  },
  {
   "cell_type": "code",
   "execution_count": 0,
   "metadata": {
    "colab": {},
    "colab_type": "code",
    "id": "0Qb0sCGqn5MI"
   },
   "outputs": [],
   "source": [
    "#apunto el root al archivo a analizar\n",
    "root_path ='gdrive/My Drive/MaestCienDatCAECE/2Año/MineriaDeDatosEmpresarial/Unidad_7_Mineria de datos para mkt y retail/Actividad_2/cliente.csv'\n",
    "cliente_master = pd.read_csv(root_path, encoding=\"latin-1\")\n",
    "\n",
    "#apunto el root al archivo a analizar\n",
    "root_path ='gdrive/My Drive/MaestCienDatCAECE/2Año/MineriaDeDatosEmpresarial/Unidad_7_Mineria de datos para mkt y retail/Actividad_2/camp.csv'\n",
    "cliente_camp = pd.read_csv(root_path, encoding=\"latin-1\")"
   ]
  },
  {
   "cell_type": "markdown",
   "metadata": {
    "colab_type": "text",
    "id": "Hgt7GI6p-rcM"
   },
   "source": [
    "#Data profile - Clientes\n",
    "\n",
    "2. Armar el dataset, crear variables nuevas si es necesario\n"
   ]
  },
  {
   "cell_type": "code",
   "execution_count": 0,
   "metadata": {
    "colab": {},
    "colab_type": "code",
    "id": "mVzxVQpDXs4U"
   },
   "outputs": [],
   "source": [
    "cliente_master_work = cliente_master.copy()\n",
    "cliente_camp_work = cliente_camp.copy()"
   ]
  },
  {
   "cell_type": "code",
   "execution_count": 431,
   "metadata": {
    "colab": {
     "base_uri": "https://localhost:8080/",
     "height": 51
    },
    "colab_type": "code",
    "executionInfo": {
     "elapsed": 2550,
     "status": "ok",
     "timestamp": 1590387252270,
     "user": {
      "displayName": "Max L",
      "photoUrl": "https://lh3.googleusercontent.com/a-/AOh14GiiImxghgDBo0bBEM3wY7O7xE308CM12cvL2L25OA=s64",
      "userId": "16489755529424491377"
     },
     "user_tz": 180
    },
    "id": "M_wXkxdjVRrO",
    "outputId": "bb4d1eeb-3feb-4da6-9c5b-8b762c63d1fe"
   },
   "outputs": [
    {
     "name": "stdout",
     "output_type": "stream",
     "text": [
      "El data set de clientes tiene 21740 filas y 17 columnas \n",
      "El data set de campañas tiene 21740 filas y 3 columnas \n"
     ]
    }
   ],
   "source": [
    "print(\"El data set de clientes tiene %d filas y %d columnas \" % (cliente_master_work.shape[0],cliente_master_work.shape[1]))\n",
    "print(\"El data set de campañas tiene %d filas y %d columnas \" % (cliente_camp_work.shape[0],cliente_camp_work.shape[1]))"
   ]
  },
  {
   "cell_type": "code",
   "execution_count": 372,
   "metadata": {
    "colab": {
     "base_uri": "https://localhost:8080/",
     "height": 224
    },
    "colab_type": "code",
    "executionInfo": {
     "elapsed": 880,
     "status": "ok",
     "timestamp": 1590384037362,
     "user": {
      "displayName": "Max L",
      "photoUrl": "https://lh3.googleusercontent.com/a-/AOh14GiiImxghgDBo0bBEM3wY7O7xE308CM12cvL2L25OA=s64",
      "userId": "16489755529424491377"
     },
     "user_tz": 180
    },
    "id": "38RLGeuhthBc",
    "outputId": "7fa6cf89-3b10-44b5-ed88-cb3b958ad1c8"
   },
   "outputs": [
    {
     "data": {
      "text/html": [
       "<div>\n",
       "<style scoped>\n",
       "    .dataframe tbody tr th:only-of-type {\n",
       "        vertical-align: middle;\n",
       "    }\n",
       "\n",
       "    .dataframe tbody tr th {\n",
       "        vertical-align: top;\n",
       "    }\n",
       "\n",
       "    .dataframe thead th {\n",
       "        text-align: right;\n",
       "    }\n",
       "</style>\n",
       "<table border=\"1\" class=\"dataframe\">\n",
       "  <thead>\n",
       "    <tr style=\"text-align: right;\">\n",
       "      <th></th>\n",
       "      <th>cid</th>\n",
       "      <th>monto_sucursal_1</th>\n",
       "      <th>monto_sucursal_2</th>\n",
       "      <th>monto_sucursal_3</th>\n",
       "      <th>monto_sucursal_4</th>\n",
       "      <th>promociones</th>\n",
       "      <th>dias_cliente</th>\n",
       "      <th>sucursales</th>\n",
       "      <th>promos_enviadas</th>\n",
       "      <th>promos_compras</th>\n",
       "      <th>produni</th>\n",
       "      <th>flagret</th>\n",
       "      <th>frecuencia_compra</th>\n",
       "      <th>estado</th>\n",
       "      <th>county</th>\n",
       "      <th>mid</th>\n",
       "      <th>fecha_nacimiento</th>\n",
       "    </tr>\n",
       "  </thead>\n",
       "  <tbody>\n",
       "    <tr>\n",
       "      <th>0</th>\n",
       "      <td>55600018227</td>\n",
       "      <td>0.00</td>\n",
       "      <td>0.00</td>\n",
       "      <td>192.00</td>\n",
       "      <td>0.0</td>\n",
       "      <td>19</td>\n",
       "      <td>511</td>\n",
       "      <td>1</td>\n",
       "      <td>8</td>\n",
       "      <td>0</td>\n",
       "      <td>106.88</td>\n",
       "      <td>0</td>\n",
       "      <td>511.00</td>\n",
       "      <td>MN</td>\n",
       "      <td>550</td>\n",
       "      <td>1821001</td>\n",
       "      <td>01/28/72</td>\n",
       "    </tr>\n",
       "    <tr>\n",
       "      <th>1</th>\n",
       "      <td>55600021052</td>\n",
       "      <td>144.69</td>\n",
       "      <td>0.00</td>\n",
       "      <td>16.19</td>\n",
       "      <td>0.0</td>\n",
       "      <td>4</td>\n",
       "      <td>91</td>\n",
       "      <td>2</td>\n",
       "      <td>0</td>\n",
       "      <td>0</td>\n",
       "      <td>27.40</td>\n",
       "      <td>0</td>\n",
       "      <td>91.00</td>\n",
       "      <td>SC</td>\n",
       "      <td>290</td>\n",
       "      <td>284301</td>\n",
       "      <td>10/06/51</td>\n",
       "    </tr>\n",
       "    <tr>\n",
       "      <th>2</th>\n",
       "      <td>55600021210</td>\n",
       "      <td>0.00</td>\n",
       "      <td>141.29</td>\n",
       "      <td>138.60</td>\n",
       "      <td>0.0</td>\n",
       "      <td>15</td>\n",
       "      <td>657</td>\n",
       "      <td>2</td>\n",
       "      <td>5</td>\n",
       "      <td>1</td>\n",
       "      <td>12.74</td>\n",
       "      <td>1</td>\n",
       "      <td>82.12</td>\n",
       "      <td>CA</td>\n",
       "      <td>947</td>\n",
       "      <td>1679802</td>\n",
       "      <td>05/12/71</td>\n",
       "    </tr>\n",
       "    <tr>\n",
       "      <th>3</th>\n",
       "      <td>55600021232</td>\n",
       "      <td>0.00</td>\n",
       "      <td>0.00</td>\n",
       "      <td>380.18</td>\n",
       "      <td>0.0</td>\n",
       "      <td>24</td>\n",
       "      <td>384</td>\n",
       "      <td>3</td>\n",
       "      <td>7</td>\n",
       "      <td>2</td>\n",
       "      <td>35.49</td>\n",
       "      <td>0</td>\n",
       "      <td>96.00</td>\n",
       "      <td>AR</td>\n",
       "      <td>722</td>\n",
       "      <td>1726702</td>\n",
       "      <td>07/10/63</td>\n",
       "    </tr>\n",
       "    <tr>\n",
       "      <th>4</th>\n",
       "      <td>55600028433</td>\n",
       "      <td>0.00</td>\n",
       "      <td>623.24</td>\n",
       "      <td>230.23</td>\n",
       "      <td>0.0</td>\n",
       "      <td>18</td>\n",
       "      <td>694</td>\n",
       "      <td>2</td>\n",
       "      <td>11</td>\n",
       "      <td>3</td>\n",
       "      <td>24.35</td>\n",
       "      <td>1</td>\n",
       "      <td>99.14</td>\n",
       "      <td>MD</td>\n",
       "      <td>207</td>\n",
       "      <td>2109903</td>\n",
       "      <td>08/29/55</td>\n",
       "    </tr>\n",
       "  </tbody>\n",
       "</table>\n",
       "</div>"
      ],
      "text/plain": [
       "           cid  monto_sucursal_1  ...      mid  fecha_nacimiento\n",
       "0  55600018227              0.00  ...  1821001          01/28/72\n",
       "1  55600021052            144.69  ...   284301          10/06/51\n",
       "2  55600021210              0.00  ...  1679802          05/12/71\n",
       "3  55600021232              0.00  ...  1726702          07/10/63\n",
       "4  55600028433              0.00  ...  2109903          08/29/55\n",
       "\n",
       "[5 rows x 17 columns]"
      ]
     },
     "execution_count": 372,
     "metadata": {
      "tags": []
     },
     "output_type": "execute_result"
    }
   ],
   "source": [
    "cliente_master_work.sort_values(by=['cid']).head(5)"
   ]
  },
  {
   "cell_type": "code",
   "execution_count": 371,
   "metadata": {
    "colab": {
     "base_uri": "https://localhost:8080/",
     "height": 204
    },
    "colab_type": "code",
    "executionInfo": {
     "elapsed": 871,
     "status": "ok",
     "timestamp": 1590384034586,
     "user": {
      "displayName": "Max L",
      "photoUrl": "https://lh3.googleusercontent.com/a-/AOh14GiiImxghgDBo0bBEM3wY7O7xE308CM12cvL2L25OA=s64",
      "userId": "16489755529424491377"
     },
     "user_tz": 180
    },
    "id": "fwr5D25aTiyv",
    "outputId": "78baca83-b008-476c-cc87-3f83aa8adbaf"
   },
   "outputs": [
    {
     "data": {
      "text/html": [
       "<div>\n",
       "<style scoped>\n",
       "    .dataframe tbody tr th:only-of-type {\n",
       "        vertical-align: middle;\n",
       "    }\n",
       "\n",
       "    .dataframe tbody tr th {\n",
       "        vertical-align: top;\n",
       "    }\n",
       "\n",
       "    .dataframe thead th {\n",
       "        text-align: right;\n",
       "    }\n",
       "</style>\n",
       "<table border=\"1\" class=\"dataframe\">\n",
       "  <thead>\n",
       "    <tr style=\"text-align: right;\">\n",
       "      <th></th>\n",
       "      <th>cid</th>\n",
       "      <th>flag_incluido</th>\n",
       "      <th>flag_compro</th>\n",
       "    </tr>\n",
       "  </thead>\n",
       "  <tbody>\n",
       "    <tr>\n",
       "      <th>5590</th>\n",
       "      <td>55600018227</td>\n",
       "      <td>1</td>\n",
       "      <td>0</td>\n",
       "    </tr>\n",
       "    <tr>\n",
       "      <th>5591</th>\n",
       "      <td>55600021052</td>\n",
       "      <td>1</td>\n",
       "      <td>0</td>\n",
       "    </tr>\n",
       "    <tr>\n",
       "      <th>5592</th>\n",
       "      <td>55600021210</td>\n",
       "      <td>0</td>\n",
       "      <td>0</td>\n",
       "    </tr>\n",
       "    <tr>\n",
       "      <th>5593</th>\n",
       "      <td>55600021232</td>\n",
       "      <td>0</td>\n",
       "      <td>0</td>\n",
       "    </tr>\n",
       "    <tr>\n",
       "      <th>5594</th>\n",
       "      <td>55600028433</td>\n",
       "      <td>1</td>\n",
       "      <td>0</td>\n",
       "    </tr>\n",
       "  </tbody>\n",
       "</table>\n",
       "</div>"
      ],
      "text/plain": [
       "              cid  flag_incluido  flag_compro\n",
       "5590  55600018227              1            0\n",
       "5591  55600021052              1            0\n",
       "5592  55600021210              0            0\n",
       "5593  55600021232              0            0\n",
       "5594  55600028433              1            0"
      ]
     },
     "execution_count": 371,
     "metadata": {
      "tags": []
     },
     "output_type": "execute_result"
    }
   ],
   "source": [
    "cliente_camp_work.sort_values(by=['cid']).head(5)"
   ]
  },
  {
   "cell_type": "code",
   "execution_count": 0,
   "metadata": {
    "colab": {},
    "colab_type": "code",
    "id": "zwA_AxilVlKt"
   },
   "outputs": [],
   "source": [
    "#http://www.datasciencemadesimple.com/join-merge-data-frames-pandas-python/\n",
    "#merge de los dataset por el cid\n",
    "cliente_camp_join = pd.merge(cliente_master_work, cliente_camp_work, on='cid', how='inner')"
   ]
  },
  {
   "cell_type": "code",
   "execution_count": 383,
   "metadata": {
    "colab": {
     "base_uri": "https://localhost:8080/",
     "height": 51
    },
    "colab_type": "code",
    "executionInfo": {
     "elapsed": 877,
     "status": "ok",
     "timestamp": 1590384772234,
     "user": {
      "displayName": "Max L",
      "photoUrl": "https://lh3.googleusercontent.com/a-/AOh14GiiImxghgDBo0bBEM3wY7O7xE308CM12cvL2L25OA=s64",
      "userId": "16489755529424491377"
     },
     "user_tz": 180
    },
    "id": "B2jqJjZPlP9G",
    "outputId": "57beb80b-78f9-4f3f-892c-f7aee936b337"
   },
   "outputs": [
    {
     "name": "stdout",
     "output_type": "stream",
     "text": [
      "                  NullRecord  TotalRecord  CompleteRecord  CompleteRecord_Rate\n",
      "fecha_nacimiento        1806        21740           19934               91.693\n"
     ]
    }
   ],
   "source": [
    "#analizo completitud de datos para ver columnas a borrar o completar\n",
    "x = cliente_camp_join.isna().sum()\n",
    "if len(x[x>0])>0:\n",
    "  d = {'NullRecord': x[x>0], 'TotalRecord': cliente_camp_join.shape[0]}\n",
    "  y = pd.DataFrame(d)\n",
    "\n",
    "  y[\"CompleteRecord\"] = y[\"TotalRecord\"] - y[\"NullRecord\"]\n",
    "  y[\"CompleteRecord_Rate\"] = round((y[\"CompleteRecord\"] / y[\"TotalRecord\"] ) * 100,3)\n",
    "  print(y.sort_values(\"NullRecord\",ascending=True))\n",
    "else:\n",
    "  print(\"No hay registros vacios\")"
   ]
  },
  {
   "cell_type": "code",
   "execution_count": 0,
   "metadata": {
    "colab": {},
    "colab_type": "code",
    "id": "peEjTlJdlWA_"
   },
   "outputs": [],
   "source": [
    "#borro el 10% de los registros en null\n",
    "cliente_camp_join.dropna(axis=0,how='any',inplace=True)"
   ]
  },
  {
   "cell_type": "code",
   "execution_count": 77,
   "metadata": {
    "colab": {
     "base_uri": "https://localhost:8080/",
     "height": 0
    },
    "colab_type": "code",
    "executionInfo": {
     "elapsed": 796,
     "status": "ok",
     "timestamp": 1590369390694,
     "user": {
      "displayName": "Max L",
      "photoUrl": "https://lh3.googleusercontent.com/a-/AOh14GiiImxghgDBo0bBEM3wY7O7xE308CM12cvL2L25OA=s64",
      "userId": "16489755529424491377"
     },
     "user_tz": 180
    },
    "id": "YswfM0Fw-99q",
    "outputId": "85e5bc41-60df-4788-e5ed-8bb5a399527e"
   },
   "outputs": [
    {
     "name": "stdout",
     "output_type": "stream",
     "text": [
      "No hay registros vacios\n"
     ]
    }
   ],
   "source": [
    "#analizo completitud de datos para ver columnas a borrar o completar\n",
    "x = cliente_camp_join.isna().sum()\n",
    "if len(x[x>0])>0:\n",
    "  d = {'NullRecord': x[x>0], 'TotalRecord': cliente_camp_join.shape[0]}\n",
    "  y = pd.DataFrame(d)\n",
    "\n",
    "  y[\"CompleteRecord\"] = y[\"TotalRecord\"] - y[\"NullRecord\"]\n",
    "  y[\"CompleteRecord_Rate\"] = round((y[\"CompleteRecord\"] / y[\"TotalRecord\"] ) * 100,3)\n",
    "  print(y.sort_values(\"NullRecord\",ascending=True))\n",
    "else:\n",
    "  print(\"No hay registros vacios\")"
   ]
  },
  {
   "cell_type": "code",
   "execution_count": 0,
   "metadata": {
    "colab": {},
    "colab_type": "code",
    "id": "sngdfGKE_KRA"
   },
   "outputs": [],
   "source": [
    "cliente_camp_join['today'] = date.today().strftime('%Y-%m-%d')\n",
    "\n",
    "cliente_camp_join[\"anio\"] = \"19\"+cliente_camp_join.fecha_nacimiento.str[-2:]#.astype(int)\n",
    "cliente_camp_join[\"mes\"]  = cliente_camp_join.fecha_nacimiento.str[0:2]#.astype(int)\n",
    "cliente_camp_join[\"dia\"]  = cliente_camp_join.fecha_nacimiento.str[3:5]#.astype(int)\n",
    "\n",
    "cliente_camp_join['fecha']= cliente_camp_join[\"anio\"] + '/' + cliente_camp_join[\"mes\"] + '/'+ cliente_camp_join[\"dia\"]\n",
    "cliente_camp_join[\"fecha\"] = cliente_camp_join[\"fecha\"].apply(pd.to_datetime)\n",
    "cliente_camp_join[\"today\"] = cliente_camp_join[\"today\"].apply(pd.to_datetime)"
   ]
  },
  {
   "cell_type": "code",
   "execution_count": 0,
   "metadata": {
    "colab": {},
    "colab_type": "code",
    "id": "XA4Wg0bsZ8h3"
   },
   "outputs": [],
   "source": [
    "#df['fecha']= str(df.fecha_nacimiento.str[3:5]+'/' + '19' + df.fecha_nacimiento.str[-2:])\n",
    "cliente_camp_join['diff_days'] = cliente_camp_join['today']- cliente_camp_join['fecha']\n",
    "cliente_camp_join['edad']=round(cliente_camp_join['diff_days']/np.timedelta64(1,'Y'),0).astype(int)"
   ]
  },
  {
   "cell_type": "code",
   "execution_count": 0,
   "metadata": {
    "colab": {},
    "colab_type": "code",
    "id": "v7fK1EsPXvJN"
   },
   "outputs": [],
   "source": [
    "#consolido el importe\n",
    "cliente_camp_join[\"importeTotal\"] = cliente_camp_join[\"monto_sucursal_1\"]+cliente_camp_join[\"monto_sucursal_2\"]+cliente_camp_join[\"monto_sucursal_3\"]+cliente_camp_join[\"monto_sucursal_4\"]"
   ]
  },
  {
   "cell_type": "code",
   "execution_count": 0,
   "metadata": {
    "colab": {},
    "colab_type": "code",
    "id": "Cq2lhLfHXXCR"
   },
   "outputs": [],
   "source": [
    "#borro las columnas auxiliares de fechas\n",
    "cliente_camp_join.drop(columns={\"today\",\"anio\",\"mes\",\"dia\",\"diff_days\"},axis=1,inplace=True)\n",
    "#borro las columnas de importes parciales \n",
    "cliente_camp_join.drop(columns={\"monto_sucursal_1\",\"monto_sucursal_2\",\"monto_sucursal_3\",\"monto_sucursal_4\"},axis=1,inplace=True)"
   ]
  },
  {
   "cell_type": "code",
   "execution_count": 84,
   "metadata": {
    "colab": {
     "base_uri": "https://localhost:8080/",
     "height": 0
    },
    "colab_type": "code",
    "executionInfo": {
     "elapsed": 510,
     "status": "ok",
     "timestamp": 1590369494141,
     "user": {
      "displayName": "Max L",
      "photoUrl": "https://lh3.googleusercontent.com/a-/AOh14GiiImxghgDBo0bBEM3wY7O7xE308CM12cvL2L25OA=s64",
      "userId": "16489755529424491377"
     },
     "user_tz": 180
    },
    "id": "2NRJfNQXc-dS",
    "outputId": "62d6034a-e08d-49d5-df26-32845207fc81"
   },
   "outputs": [
    {
     "data": {
      "text/html": [
       "<div>\n",
       "<style scoped>\n",
       "    .dataframe tbody tr th:only-of-type {\n",
       "        vertical-align: middle;\n",
       "    }\n",
       "\n",
       "    .dataframe tbody tr th {\n",
       "        vertical-align: top;\n",
       "    }\n",
       "\n",
       "    .dataframe thead th {\n",
       "        text-align: right;\n",
       "    }\n",
       "</style>\n",
       "<table border=\"1\" class=\"dataframe\">\n",
       "  <thead>\n",
       "    <tr style=\"text-align: right;\">\n",
       "      <th></th>\n",
       "      <th>cid</th>\n",
       "      <th>promociones</th>\n",
       "      <th>dias_cliente</th>\n",
       "      <th>sucursales</th>\n",
       "      <th>promos_enviadas</th>\n",
       "      <th>promos_compras</th>\n",
       "      <th>produni</th>\n",
       "      <th>flagret</th>\n",
       "      <th>frecuencia_compra</th>\n",
       "      <th>estado</th>\n",
       "      <th>county</th>\n",
       "      <th>mid</th>\n",
       "      <th>fecha_nacimiento</th>\n",
       "      <th>flag_incluido</th>\n",
       "      <th>flag_compro</th>\n",
       "      <th>fecha</th>\n",
       "      <th>edad</th>\n",
       "      <th>importeTotal</th>\n",
       "    </tr>\n",
       "  </thead>\n",
       "  <tbody>\n",
       "    <tr>\n",
       "      <th>0</th>\n",
       "      <td>55600018227</td>\n",
       "      <td>19</td>\n",
       "      <td>511</td>\n",
       "      <td>1</td>\n",
       "      <td>8</td>\n",
       "      <td>0</td>\n",
       "      <td>106.88</td>\n",
       "      <td>0</td>\n",
       "      <td>511.00</td>\n",
       "      <td>MN</td>\n",
       "      <td>550</td>\n",
       "      <td>1821001</td>\n",
       "      <td>01/28/72</td>\n",
       "      <td>1</td>\n",
       "      <td>0</td>\n",
       "      <td>1972-01-28</td>\n",
       "      <td>48</td>\n",
       "      <td>192.00</td>\n",
       "    </tr>\n",
       "    <tr>\n",
       "      <th>1</th>\n",
       "      <td>55600021052</td>\n",
       "      <td>4</td>\n",
       "      <td>91</td>\n",
       "      <td>2</td>\n",
       "      <td>0</td>\n",
       "      <td>0</td>\n",
       "      <td>27.40</td>\n",
       "      <td>0</td>\n",
       "      <td>91.00</td>\n",
       "      <td>SC</td>\n",
       "      <td>290</td>\n",
       "      <td>284301</td>\n",
       "      <td>10/06/51</td>\n",
       "      <td>1</td>\n",
       "      <td>0</td>\n",
       "      <td>1951-10-06</td>\n",
       "      <td>69</td>\n",
       "      <td>160.88</td>\n",
       "    </tr>\n",
       "    <tr>\n",
       "      <th>2</th>\n",
       "      <td>55600021210</td>\n",
       "      <td>15</td>\n",
       "      <td>657</td>\n",
       "      <td>2</td>\n",
       "      <td>5</td>\n",
       "      <td>1</td>\n",
       "      <td>12.74</td>\n",
       "      <td>1</td>\n",
       "      <td>82.12</td>\n",
       "      <td>CA</td>\n",
       "      <td>947</td>\n",
       "      <td>1679802</td>\n",
       "      <td>05/12/71</td>\n",
       "      <td>0</td>\n",
       "      <td>0</td>\n",
       "      <td>1971-05-12</td>\n",
       "      <td>49</td>\n",
       "      <td>279.89</td>\n",
       "    </tr>\n",
       "    <tr>\n",
       "      <th>3</th>\n",
       "      <td>55600021232</td>\n",
       "      <td>24</td>\n",
       "      <td>384</td>\n",
       "      <td>3</td>\n",
       "      <td>7</td>\n",
       "      <td>2</td>\n",
       "      <td>35.49</td>\n",
       "      <td>0</td>\n",
       "      <td>96.00</td>\n",
       "      <td>AR</td>\n",
       "      <td>722</td>\n",
       "      <td>1726702</td>\n",
       "      <td>07/10/63</td>\n",
       "      <td>0</td>\n",
       "      <td>0</td>\n",
       "      <td>1963-07-10</td>\n",
       "      <td>57</td>\n",
       "      <td>380.18</td>\n",
       "    </tr>\n",
       "    <tr>\n",
       "      <th>4</th>\n",
       "      <td>55600028433</td>\n",
       "      <td>18</td>\n",
       "      <td>694</td>\n",
       "      <td>2</td>\n",
       "      <td>11</td>\n",
       "      <td>3</td>\n",
       "      <td>24.35</td>\n",
       "      <td>1</td>\n",
       "      <td>99.14</td>\n",
       "      <td>MD</td>\n",
       "      <td>207</td>\n",
       "      <td>2109903</td>\n",
       "      <td>08/29/55</td>\n",
       "      <td>1</td>\n",
       "      <td>0</td>\n",
       "      <td>1955-08-29</td>\n",
       "      <td>65</td>\n",
       "      <td>853.47</td>\n",
       "    </tr>\n",
       "  </tbody>\n",
       "</table>\n",
       "</div>"
      ],
      "text/plain": [
       "           cid  promociones  dias_cliente  ...      fecha  edad  importeTotal\n",
       "0  55600018227           19           511  ... 1972-01-28    48        192.00\n",
       "1  55600021052            4            91  ... 1951-10-06    69        160.88\n",
       "2  55600021210           15           657  ... 1971-05-12    49        279.89\n",
       "3  55600021232           24           384  ... 1963-07-10    57        380.18\n",
       "4  55600028433           18           694  ... 1955-08-29    65        853.47\n",
       "\n",
       "[5 rows x 18 columns]"
      ]
     },
     "execution_count": 84,
     "metadata": {
      "tags": []
     },
     "output_type": "execute_result"
    }
   ],
   "source": [
    "cliente_camp_join.sort_values(by=\"cid\").head()"
   ]
  },
  {
   "cell_type": "markdown",
   "metadata": {
    "colab_type": "text",
    "id": "tSCd0fgWdpDq"
   },
   "source": [
    "# 1. Analizar las variables involucradas"
   ]
  },
  {
   "cell_type": "code",
   "execution_count": 109,
   "metadata": {
    "colab": {
     "base_uri": "https://localhost:8080/",
     "height": 0
    },
    "colab_type": "code",
    "executionInfo": {
     "elapsed": 882,
     "status": "ok",
     "timestamp": 1590370301116,
     "user": {
      "displayName": "Max L",
      "photoUrl": "https://lh3.googleusercontent.com/a-/AOh14GiiImxghgDBo0bBEM3wY7O7xE308CM12cvL2L25OA=s64",
      "userId": "16489755529424491377"
     },
     "user_tz": 180
    },
    "id": "9jGFppX_dLgO",
    "outputId": "178c918b-cfee-45b6-cf91-c2590f6dcc8b"
   },
   "outputs": [
    {
     "name": "stdout",
     "output_type": "stream",
     "text": [
      "El data set de clientes y campañas tiene 19934 filas y 16 columnas \n"
     ]
    }
   ],
   "source": [
    "print(\"El data set de clientes y campañas tiene %d filas y %d columnas \" % (cliente_camp_join.shape[0],cliente_camp_join.shape[1]))"
   ]
  },
  {
   "cell_type": "code",
   "execution_count": 95,
   "metadata": {
    "colab": {
     "base_uri": "https://localhost:8080/",
     "height": 0
    },
    "colab_type": "code",
    "executionInfo": {
     "elapsed": 907,
     "status": "ok",
     "timestamp": 1590369950794,
     "user": {
      "displayName": "Max L",
      "photoUrl": "https://lh3.googleusercontent.com/a-/AOh14GiiImxghgDBo0bBEM3wY7O7xE308CM12cvL2L25OA=s64",
      "userId": "16489755529424491377"
     },
     "user_tz": 180
    },
    "id": "l0DTRi5cuXDZ",
    "outputId": "d507baa6-3ec1-46b9-9455-c6eb2ec75e2d"
   },
   "outputs": [
    {
     "name": "stdout",
     "output_type": "stream",
     "text": [
      "Registros con valores 0\n",
      "La columna  promociones  tiene  755 Rate  3.79\n",
      "La columna  promos_enviadas  tiene  3220 Rate  16.15\n",
      "La columna  promos_compras  tiene  10719 Rate  53.77\n",
      "La columna  flagret  tiene  13158 Rate  66.01\n",
      "La columna  flag_incluido  tiene  6121 Rate  30.71\n",
      "La columna  flag_compro  tiene  17670 Rate  88.64\n"
     ]
    }
   ],
   "source": [
    "print (\"Registros con valores 0\")\n",
    "for i in cliente_camp_join.columns:\n",
    "  if len(cliente_camp_join[cliente_camp_join[i]==0]) > 0 and i != \"ClassVariable\":\n",
    "    print (\"La columna \", i, \" tiene \", len(cliente_camp_join[cliente_camp_join[i]==0]), \n",
    "           \"Rate \",round((len(cliente_camp_join[cliente_camp_join[i]==0]) / cliente_camp_join.shape[0])*100,2) )"
   ]
  },
  {
   "cell_type": "code",
   "execution_count": 98,
   "metadata": {
    "colab": {
     "base_uri": "https://localhost:8080/",
     "height": 0
    },
    "colab_type": "code",
    "executionInfo": {
     "elapsed": 893,
     "status": "ok",
     "timestamp": 1590370114401,
     "user": {
      "displayName": "Max L",
      "photoUrl": "https://lh3.googleusercontent.com/a-/AOh14GiiImxghgDBo0bBEM3wY7O7xE308CM12cvL2L25OA=s64",
      "userId": "16489755529424491377"
     },
     "user_tz": 180
    },
    "id": "fG-7lBBAcFv5",
    "outputId": "3a9dbbd4-2acf-4c68-c94e-9b85a5c200fb"
   },
   "outputs": [
    {
     "name": "stdout",
     "output_type": "stream",
     "text": [
      "la columna  cid  tiene todos los valores unicos\n",
      "la columna  mid  tiene todos los valores unicos\n"
     ]
    }
   ],
   "source": [
    "x = cliente_camp_join.columns\n",
    "for i in x:\n",
    "  if cliente_camp_join[i].nunique()==cliente_camp_join.shape[0]:\n",
    "    print (\"la columna \",i,\" tiene todos los valores unicos\")\n"
   ]
  },
  {
   "cell_type": "code",
   "execution_count": 0,
   "metadata": {
    "colab": {},
    "colab_type": "code",
    "id": "sW6rk3egTCqc"
   },
   "outputs": [],
   "source": [
    "cliente_camp_join.drop(columns={\"cid\",\"mid\"},axis=1,inplace=True)"
   ]
  },
  {
   "cell_type": "code",
   "execution_count": 0,
   "metadata": {
    "colab": {},
    "colab_type": "code",
    "id": "uaKBqgRQcppm"
   },
   "outputs": [],
   "source": [
    "x = cliente_camp_join.columns\n",
    "for i in x:\n",
    "  if cliente_camp_join[i].nunique()==cliente_camp_join.shape[0]:\n",
    "    print (\"la columna \",i,\" tiene todos los valores unicos\")"
   ]
  },
  {
   "cell_type": "code",
   "execution_count": 108,
   "metadata": {
    "colab": {
     "base_uri": "https://localhost:8080/",
     "height": 0
    },
    "colab_type": "code",
    "executionInfo": {
     "elapsed": 1300,
     "status": "ok",
     "timestamp": 1590370235176,
     "user": {
      "displayName": "Max L",
      "photoUrl": "https://lh3.googleusercontent.com/a-/AOh14GiiImxghgDBo0bBEM3wY7O7xE308CM12cvL2L25OA=s64",
      "userId": "16489755529424491377"
     },
     "user_tz": 180
    },
    "id": "8Va5FKgec1XR",
    "outputId": "9a5c6f55-cdc1-43e5-dde8-e2c8f18ea7b8"
   },
   "outputs": [
    {
     "data": {
      "text/html": [
       "<div>\n",
       "<style scoped>\n",
       "    .dataframe tbody tr th:only-of-type {\n",
       "        vertical-align: middle;\n",
       "    }\n",
       "\n",
       "    .dataframe tbody tr th {\n",
       "        vertical-align: top;\n",
       "    }\n",
       "\n",
       "    .dataframe thead th {\n",
       "        text-align: right;\n",
       "    }\n",
       "</style>\n",
       "<table border=\"1\" class=\"dataframe\">\n",
       "  <thead>\n",
       "    <tr style=\"text-align: right;\">\n",
       "      <th></th>\n",
       "      <th>count</th>\n",
       "      <th>mean</th>\n",
       "      <th>std</th>\n",
       "      <th>min</th>\n",
       "      <th>25%</th>\n",
       "      <th>50%</th>\n",
       "      <th>75%</th>\n",
       "      <th>max</th>\n",
       "    </tr>\n",
       "  </thead>\n",
       "  <tbody>\n",
       "    <tr>\n",
       "      <th>promociones</th>\n",
       "      <td>19934.0</td>\n",
       "      <td>11.578308</td>\n",
       "      <td>7.152780</td>\n",
       "      <td>0.00</td>\n",
       "      <td>5.00</td>\n",
       "      <td>12.00</td>\n",
       "      <td>17.0000</td>\n",
       "      <td>38.00</td>\n",
       "    </tr>\n",
       "    <tr>\n",
       "      <th>dias_cliente</th>\n",
       "      <td>19934.0</td>\n",
       "      <td>437.888231</td>\n",
       "      <td>193.080493</td>\n",
       "      <td>1.00</td>\n",
       "      <td>287.00</td>\n",
       "      <td>447.00</td>\n",
       "      <td>630.0000</td>\n",
       "      <td>713.00</td>\n",
       "    </tr>\n",
       "    <tr>\n",
       "      <th>sucursales</th>\n",
       "      <td>19934.0</td>\n",
       "      <td>2.341928</td>\n",
       "      <td>1.605680</td>\n",
       "      <td>1.00</td>\n",
       "      <td>1.00</td>\n",
       "      <td>2.00</td>\n",
       "      <td>3.0000</td>\n",
       "      <td>19.00</td>\n",
       "    </tr>\n",
       "    <tr>\n",
       "      <th>promos_enviadas</th>\n",
       "      <td>19934.0</td>\n",
       "      <td>4.673021</td>\n",
       "      <td>3.548693</td>\n",
       "      <td>0.00</td>\n",
       "      <td>1.00</td>\n",
       "      <td>4.00</td>\n",
       "      <td>8.0000</td>\n",
       "      <td>11.00</td>\n",
       "    </tr>\n",
       "    <tr>\n",
       "      <th>promos_compras</th>\n",
       "      <td>19934.0</td>\n",
       "      <td>1.194442</td>\n",
       "      <td>1.828501</td>\n",
       "      <td>0.00</td>\n",
       "      <td>0.00</td>\n",
       "      <td>0.00</td>\n",
       "      <td>2.0000</td>\n",
       "      <td>11.00</td>\n",
       "    </tr>\n",
       "    <tr>\n",
       "      <th>produni</th>\n",
       "      <td>19934.0</td>\n",
       "      <td>37.787458</td>\n",
       "      <td>28.073033</td>\n",
       "      <td>0.05</td>\n",
       "      <td>18.37</td>\n",
       "      <td>29.36</td>\n",
       "      <td>50.0000</td>\n",
       "      <td>200.00</td>\n",
       "    </tr>\n",
       "    <tr>\n",
       "      <th>flagret</th>\n",
       "      <td>19934.0</td>\n",
       "      <td>0.339922</td>\n",
       "      <td>0.473694</td>\n",
       "      <td>0.00</td>\n",
       "      <td>0.00</td>\n",
       "      <td>0.00</td>\n",
       "      <td>1.0000</td>\n",
       "      <td>1.00</td>\n",
       "    </tr>\n",
       "    <tr>\n",
       "      <th>frecuencia_compra</th>\n",
       "      <td>19934.0</td>\n",
       "      <td>170.390849</td>\n",
       "      <td>145.984852</td>\n",
       "      <td>1.00</td>\n",
       "      <td>67.00</td>\n",
       "      <td>123.00</td>\n",
       "      <td>229.0000</td>\n",
       "      <td>713.00</td>\n",
       "    </tr>\n",
       "    <tr>\n",
       "      <th>county</th>\n",
       "      <td>19934.0</td>\n",
       "      <td>405.892545</td>\n",
       "      <td>304.887472</td>\n",
       "      <td>10.00</td>\n",
       "      <td>128.00</td>\n",
       "      <td>334.00</td>\n",
       "      <td>639.7500</td>\n",
       "      <td>999.00</td>\n",
       "    </tr>\n",
       "    <tr>\n",
       "      <th>flag_incluido</th>\n",
       "      <td>19934.0</td>\n",
       "      <td>0.692937</td>\n",
       "      <td>0.461287</td>\n",
       "      <td>0.00</td>\n",
       "      <td>0.00</td>\n",
       "      <td>1.00</td>\n",
       "      <td>1.0000</td>\n",
       "      <td>1.00</td>\n",
       "    </tr>\n",
       "    <tr>\n",
       "      <th>flag_compro</th>\n",
       "      <td>19934.0</td>\n",
       "      <td>0.113575</td>\n",
       "      <td>0.317302</td>\n",
       "      <td>0.00</td>\n",
       "      <td>0.00</td>\n",
       "      <td>0.00</td>\n",
       "      <td>0.0000</td>\n",
       "      <td>1.00</td>\n",
       "    </tr>\n",
       "    <tr>\n",
       "      <th>edad</th>\n",
       "      <td>19934.0</td>\n",
       "      <td>60.051219</td>\n",
       "      <td>14.336082</td>\n",
       "      <td>31.00</td>\n",
       "      <td>51.00</td>\n",
       "      <td>60.00</td>\n",
       "      <td>70.0000</td>\n",
       "      <td>91.00</td>\n",
       "    </tr>\n",
       "    <tr>\n",
       "      <th>importeTotal</th>\n",
       "      <td>19934.0</td>\n",
       "      <td>475.124453</td>\n",
       "      <td>645.949805</td>\n",
       "      <td>0.99</td>\n",
       "      <td>136.00</td>\n",
       "      <td>264.48</td>\n",
       "      <td>571.0075</td>\n",
       "      <td>22511.49</td>\n",
       "    </tr>\n",
       "  </tbody>\n",
       "</table>\n",
       "</div>"
      ],
      "text/plain": [
       "                     count        mean         std  ...     50%       75%       max\n",
       "promociones        19934.0   11.578308    7.152780  ...   12.00   17.0000     38.00\n",
       "dias_cliente       19934.0  437.888231  193.080493  ...  447.00  630.0000    713.00\n",
       "sucursales         19934.0    2.341928    1.605680  ...    2.00    3.0000     19.00\n",
       "promos_enviadas    19934.0    4.673021    3.548693  ...    4.00    8.0000     11.00\n",
       "promos_compras     19934.0    1.194442    1.828501  ...    0.00    2.0000     11.00\n",
       "produni            19934.0   37.787458   28.073033  ...   29.36   50.0000    200.00\n",
       "flagret            19934.0    0.339922    0.473694  ...    0.00    1.0000      1.00\n",
       "frecuencia_compra  19934.0  170.390849  145.984852  ...  123.00  229.0000    713.00\n",
       "county             19934.0  405.892545  304.887472  ...  334.00  639.7500    999.00\n",
       "flag_incluido      19934.0    0.692937    0.461287  ...    1.00    1.0000      1.00\n",
       "flag_compro        19934.0    0.113575    0.317302  ...    0.00    0.0000      1.00\n",
       "edad               19934.0   60.051219   14.336082  ...   60.00   70.0000     91.00\n",
       "importeTotal       19934.0  475.124453  645.949805  ...  264.48  571.0075  22511.49\n",
       "\n",
       "[13 rows x 8 columns]"
      ]
     },
     "execution_count": 108,
     "metadata": {
      "tags": []
     },
     "output_type": "execute_result"
    }
   ],
   "source": [
    "cliente_camp_join.describe().transpose()"
   ]
  },
  {
   "cell_type": "code",
   "execution_count": 0,
   "metadata": {
    "colab": {},
    "colab_type": "code",
    "id": "qiYZyPEkfhMk"
   },
   "outputs": [],
   "source": [
    "plt.rcParams['figure.figsize'] = (5, 5)\n",
    "plt.style.use('ggplot')"
   ]
  },
  {
   "cell_type": "code",
   "execution_count": 0,
   "metadata": {
    "colab": {},
    "colab_type": "code",
    "id": "USn3miZXd4mt"
   },
   "outputs": [],
   "source": [
    "sns.boxplot(x=cliente_camp_join[\"importeTotal\"])\n"
   ]
  },
  {
   "cell_type": "code",
   "execution_count": 188,
   "metadata": {
    "colab": {
     "base_uri": "https://localhost:8080/",
     "height": 0
    },
    "colab_type": "code",
    "executionInfo": {
     "elapsed": 1890,
     "status": "ok",
     "timestamp": 1590375750899,
     "user": {
      "displayName": "Max L",
      "photoUrl": "https://lh3.googleusercontent.com/a-/AOh14GiiImxghgDBo0bBEM3wY7O7xE308CM12cvL2L25OA=s64",
      "userId": "16489755529424491377"
     },
     "user_tz": 180
    },
    "id": "f-YUQ-rVyACe",
    "outputId": "7bca0f5f-a130-4018-8dc9-10027759d02b"
   },
   "outputs": [
    {
     "data": {
      "text/plain": [
       "<matplotlib.axes._subplots.AxesSubplot at 0x7fc9a5e9fac8>"
      ]
     },
     "execution_count": 188,
     "metadata": {
      "tags": []
     },
     "output_type": "execute_result"
    },
    {
     "data": {
      "image/png": "[encoded data removed]",
      "text/plain": [
       "<Figure size 360x360 with 1 Axes>"
      ]
     },
     "metadata": {
      "tags": []
     },
     "output_type": "display_data"
    }
   ],
   "source": [
    "sns.boxplot(x=cliente_camp_join[\"edad\"])\n"
   ]
  },
  {
   "cell_type": "code",
   "execution_count": 0,
   "metadata": {
    "colab": {},
    "colab_type": "code",
    "id": "c8KpgXmYgW_V"
   },
   "outputs": [],
   "source": [
    "#https://seaborn.pydata.org/generated/seaborn.countplot.html\n",
    "sns.countplot(x = 'flag_incluido',\n",
    "              data = cliente_camp_join)"
   ]
  },
  {
   "cell_type": "code",
   "execution_count": 0,
   "metadata": {
    "colab": {},
    "colab_type": "code",
    "id": "N-LNoTPgj5iA"
   },
   "outputs": [],
   "source": [
    "sns.countplot(x = 'flag_compro',\n",
    "              data = cliente_camp_join)"
   ]
  },
  {
   "cell_type": "code",
   "execution_count": 0,
   "metadata": {
    "colab": {},
    "colab_type": "code",
    "id": "CeUE8ejPfkxV"
   },
   "outputs": [],
   "source": [
    "sns.countplot(x = 'flag_compro',\n",
    "              data = cliente_camp_join[cliente_camp_join[\"flag_incluido\"]==1])"
   ]
  },
  {
   "cell_type": "code",
   "execution_count": 0,
   "metadata": {
    "colab": {},
    "colab_type": "code",
    "id": "ARZ7Nq_IjTyB"
   },
   "outputs": [],
   "source": [
    "sns.catplot(x=\"flag_incluido\", \n",
    "            #hue=\"who\", \n",
    "            col=\"flag_compro\",\n",
    "            data=cliente_camp_join, \n",
    "            kind=\"count\",\n",
    "            height=4, \n",
    "            aspect=.7);"
   ]
  },
  {
   "cell_type": "code",
   "execution_count": 395,
   "metadata": {
    "colab": {
     "base_uri": "https://localhost:8080/",
     "height": 119
    },
    "colab_type": "code",
    "executionInfo": {
     "elapsed": 782,
     "status": "ok",
     "timestamp": 1590384863684,
     "user": {
      "displayName": "Max L",
      "photoUrl": "https://lh3.googleusercontent.com/a-/AOh14GiiImxghgDBo0bBEM3wY7O7xE308CM12cvL2L25OA=s64",
      "userId": "16489755529424491377"
     },
     "user_tz": 180
    },
    "id": "iixhnORDlqN5",
    "outputId": "7bc6df48-40e0-4470-b71c-e4b05356b090"
   },
   "outputs": [
    {
     "name": "stdout",
     "output_type": "stream",
     "text": [
      "Group sum every Terms in Data\n",
      "flag_incluido  flag_compro\n",
      "0              0               6669\n",
      "1              0              12606\n",
      "               1               2465\n",
      "Name: flag_compro, dtype: int64\n"
     ]
    }
   ],
   "source": [
    "print('Group sum every Terms in Data')\n",
    "print(cliente_camp_join.groupby('flag_incluido')['flag_compro'].value_counts())"
   ]
  },
  {
   "cell_type": "code",
   "execution_count": 151,
   "metadata": {
    "colab": {
     "base_uri": "https://localhost:8080/",
     "height": 0
    },
    "colab_type": "code",
    "executionInfo": {
     "elapsed": 2287,
     "status": "ok",
     "timestamp": 1590373257243,
     "user": {
      "displayName": "Max L",
      "photoUrl": "https://lh3.googleusercontent.com/a-/AOh14GiiImxghgDBo0bBEM3wY7O7xE308CM12cvL2L25OA=s64",
      "userId": "16489755529424491377"
     },
     "user_tz": 180
    },
    "id": "VzJ4Kqrueyii",
    "outputId": "e9a3f5e0-3c22-4479-cd4b-4b259bced155"
   },
   "outputs": [
    {
     "data": {
      "image/png": "[encoded data removed]",
      "text/plain": [
       "<Figure size 1080x720 with 1 Axes>"
      ]
     },
     "metadata": {
      "tags": []
     },
     "output_type": "display_data"
    }
   ],
   "source": [
    "#https://seaborn.pydata.org/generated/seaborn.heatmap.html\n",
    "c= cliente_camp_join[cliente_camp_join[\"flag_incluido\"]==1].corr()\n",
    "mask = np.zeros_like(c)\n",
    "mask[np.triu_indices_from(mask)] = True\n",
    "with sns.axes_style(\"white\"):\n",
    "    f, ax = plt.subplots(figsize=(15,10))\n",
    "    ax = sns.heatmap(c, square=True,cmap=\"Blues\",annot=True,cbar=False)\n",
    "    #ax = sns.heatmap(c, mask=mask, vmax=.3, square=True,cmap=\"Blues\",annot=True,cbar=False)\n",
    "    ax.set_xticklabels(ax.get_xticklabels(), rotation=45, horizontalalignment='right')\n",
    "    ax.set_yticklabels(ax.get_yticklabels(), rotation=0, horizontalalignment='right')\n",
    "plt.show()"
   ]
  },
  {
   "cell_type": "markdown",
   "metadata": {
    "colab_type": "text",
    "id": "ZmHO2HVNH3Eq"
   },
   "source": [
    "#3. Crear un modelo para predecir qué clientes responderán a la campaña (se adjuntan aparte los datos de la campaña 201804 para realizar el testing)"
   ]
  },
  {
   "cell_type": "markdown",
   "metadata": {
    "colab_type": "text",
    "id": "1BkfQ8N8o3TJ"
   },
   "source": [
    "##Arbol de desición"
   ]
  },
  {
   "cell_type": "code",
   "execution_count": 0,
   "metadata": {
    "colab": {},
    "colab_type": "code",
    "id": "W6pXT6YYo6_u"
   },
   "outputs": [],
   "source": [
    "# Load libraries\n",
    "import pandas as pd\n",
    "from sklearn.tree import DecisionTreeClassifier # Import Decision Tree Classifier\n",
    "from sklearn.model_selection import train_test_split # Import train_test_split function\n",
    "from sklearn import metrics #Import scikit-learn metrics module for accuracy calculation\n",
    "from sklearn import preprocessing\n",
    "\n",
    "from sklearn.tree import export_graphviz\n",
    "from sklearn.externals.six import StringIO  \n",
    "from IPython.display import Image  \n",
    "import pydotplus\n",
    "\n",
    "from sklearn.externals.six import StringIO  \n",
    "from IPython.display import Image  \n",
    "from sklearn.tree import export_graphviz\n",
    "import pydotplus"
   ]
  },
  {
   "cell_type": "code",
   "execution_count": 0,
   "metadata": {
    "colab": {},
    "colab_type": "code",
    "id": "0NtGX8TQpCzM"
   },
   "outputs": [],
   "source": [
    "cliente_camp_join_tree = cliente_camp_join[cliente_camp_join[\"flag_incluido\"]==1]"
   ]
  },
  {
   "cell_type": "code",
   "execution_count": 398,
   "metadata": {
    "colab": {
     "base_uri": "https://localhost:8080/",
     "height": 102
    },
    "colab_type": "code",
    "executionInfo": {
     "elapsed": 1135,
     "status": "ok",
     "timestamp": 1590384897780,
     "user": {
      "displayName": "Max L",
      "photoUrl": "https://lh3.googleusercontent.com/a-/AOh14GiiImxghgDBo0bBEM3wY7O7xE308CM12cvL2L25OA=s64",
      "userId": "16489755529424491377"
     },
     "user_tz": 180
    },
    "id": "y5NWlzcdpKF3",
    "outputId": "cff96706-084f-455f-e8e1-90c00cfadf86"
   },
   "outputs": [
    {
     "name": "stderr",
     "output_type": "stream",
     "text": [
      "/usr/local/lib/python3.6/dist-packages/pandas/core/frame.py:3997: SettingWithCopyWarning: \n",
      "A value is trying to be set on a copy of a slice from a DataFrame\n",
      "\n",
      "See the caveats in the documentation: https://pandas.pydata.org/pandas-docs/stable/user_guide/indexing.html#returning-a-view-versus-a-copy\n",
      "  errors=errors,\n"
     ]
    }
   ],
   "source": [
    "cliente_camp_join_tree.drop(columns={\"flag_incluido\"},axis=1,inplace=True)"
   ]
  },
  {
   "cell_type": "code",
   "execution_count": 0,
   "metadata": {
    "colab": {},
    "colab_type": "code",
    "id": "cAnA6DxlpdP8"
   },
   "outputs": [],
   "source": [
    "c= cliente_camp_join_tree.corr()\n",
    "mask = np.zeros_like(c)\n",
    "mask[np.triu_indices_from(mask)] = True\n",
    "with sns.axes_style(\"white\"):\n",
    "    f, ax = plt.subplots(figsize=(15,10))\n",
    "    ax = sns.heatmap(c, square=True,cmap=\"Blues\",annot=True,cbar=False)\n",
    "    #ax = sns.heatmap(c, mask=mask, vmax=.3, square=True,cmap=\"Blues\",annot=True,cbar=False)\n",
    "    ax.set_xticklabels(ax.get_xticklabels(), rotation=45, horizontalalignment='right')\n",
    "    ax.set_yticklabels(ax.get_yticklabels(), rotation=0, horizontalalignment='right')\n",
    "plt.show()"
   ]
  },
  {
   "cell_type": "code",
   "execution_count": 156,
   "metadata": {
    "colab": {
     "base_uri": "https://localhost:8080/",
     "height": 102
    },
    "colab_type": "code",
    "executionInfo": {
     "elapsed": 807,
     "status": "ok",
     "timestamp": 1590373501188,
     "user": {
      "displayName": "Max L",
      "photoUrl": "https://lh3.googleusercontent.com/a-/AOh14GiiImxghgDBo0bBEM3wY7O7xE308CM12cvL2L25OA=s64",
      "userId": "16489755529424491377"
     },
     "user_tz": 180
    },
    "id": "xNZKSVAwpbQS",
    "outputId": "d073a2a9-4263-4d9b-abb4-c9681dfbe039"
   },
   "outputs": [
    {
     "data": {
      "text/plain": [
       "Index(['promociones', 'dias_cliente', 'sucursales', 'promos_enviadas',\n",
       "       'promos_compras', 'produni', 'flagret', 'frecuencia_compra', 'estado',\n",
       "       'county', 'fecha_nacimiento', 'flag_compro', 'fecha', 'edad',\n",
       "       'importeTotal'],\n",
       "      dtype='object')"
      ]
     },
     "execution_count": 156,
     "metadata": {
      "tags": []
     },
     "output_type": "execute_result"
    }
   ],
   "source": [
    "cliente_camp_join_tree.columns"
   ]
  },
  {
   "cell_type": "code",
   "execution_count": 0,
   "metadata": {
    "colab": {},
    "colab_type": "code",
    "id": "GEQIH9a1p3p6"
   },
   "outputs": [],
   "source": [
    "feature_cols = ['importeTotal', 'flagret', 'promos_compras','promos_enviadas',\n",
    "                'sucursales','promociones']\n",
    "X = cliente_camp_join_tree[feature_cols] # Features\n",
    "y = cliente_camp_join_tree['flag_compro'] # Target variable\n",
    "\n",
    "X_train_t, X_test_t, y_train_t, y_test_t = train_test_split(X, y, test_size=0.25) # 70% training and 30% test\n",
    "\n",
    "# Create Decision Tree classifer object\n",
    "clf = DecisionTreeClassifier(criterion=\"entropy\", max_depth=2)\n",
    "\n",
    "# Train Decision Tree Classifer\n",
    "clf = clf.fit(X_train_t,y_train_t)\n",
    "\n",
    "#Predict the response for test dataset\n",
    "y_pred_t = clf.predict(X_test_t)\n",
    "\n",
    "# Model Accuracy, how often is the classifier correct?\n",
    "print(\"Accuracy:\",metrics.accuracy_score(y_test_t, y_pred_t))\n",
    "\n",
    "dot_data = StringIO()\n",
    "export_graphviz(clf, out_file=dot_data,  \n",
    "                filled=True, rounded=True,\n",
    "                special_characters=True, feature_names = feature_cols,class_names=['0','1'])\n",
    "graph = pydotplus.graph_from_dot_data(dot_data.getvalue())  \n",
    "graph.write_png('diabetes.png')\n",
    "Image(graph.create_png())"
   ]
  },
  {
   "cell_type": "code",
   "execution_count": 0,
   "metadata": {
    "colab": {},
    "colab_type": "code",
    "id": "gwJ12Gy8KwMm"
   },
   "outputs": [],
   "source": [
    "import pandas as pd\n",
    "import seaborn as sn\n",
    "import matplotlib.pyplot as plt\n",
    "\n",
    "cm_t = confusion_matrix(y_test_t, y_pred_t)\n",
    "\n",
    "with sns.axes_style(\"white\"):\n",
    "    f, ax = plt.subplots(figsize=(5,5))\n",
    "    ax = sns.heatmap(cm_t, \n",
    "                     square=True,\n",
    "                     cmap=\"Blues\",\n",
    "                     annot=True,\n",
    "                     fmt=\"d\",\n",
    "                     cbar=False)\n",
    "    #ax = sns.heatmap(c, mask=mask, vmax=.3, square=True,cmap=\"Blues\",annot=True,cbar=False)\n",
    "    ax.set_xticklabels(ax.get_xticklabels(), rotation=0, horizontalalignment='right')\n",
    "    ax.set_yticklabels(ax.get_yticklabels(), rotation=0, horizontalalignment='right')\n",
    "    #ax.set_xticklabels({\"negative\",\"positive\"}, rotation=0, horizontalalignment='right')\n",
    "    #ax.set_yticklabels({\"negative\",\"positive\"}, rotation=0, horizontalalignment='right')\n",
    "\n",
    "plt.show()"
   ]
  },
  {
   "cell_type": "code",
   "execution_count": 0,
   "metadata": {
    "colab": {},
    "colab_type": "code",
    "id": "jFn8qz4bZdaZ"
   },
   "outputs": [],
   "source": [
    " tn, fp, fn, tp = cm_t.ravel()"
   ]
  },
  {
   "cell_type": "code",
   "execution_count": 422,
   "metadata": {
    "colab": {
     "base_uri": "https://localhost:8080/",
     "height": 34
    },
    "colab_type": "code",
    "executionInfo": {
     "elapsed": 1611,
     "status": "ok",
     "timestamp": 1590386129010,
     "user": {
      "displayName": "Max L",
      "photoUrl": "https://lh3.googleusercontent.com/a-/AOh14GiiImxghgDBo0bBEM3wY7O7xE308CM12cvL2L25OA=s64",
      "userId": "16489755529424491377"
     },
     "user_tz": 180
    },
    "id": "v7HMd97zZiaB",
    "outputId": "8771013c-7819-4e15-b41e-66c64c8bdbb6"
   },
   "outputs": [
    {
     "data": {
      "text/plain": [
       "473"
      ]
     },
     "execution_count": 422,
     "metadata": {
      "tags": []
     },
     "output_type": "execute_result"
    }
   ],
   "source": [
    "fn"
   ]
  },
  {
   "cell_type": "code",
   "execution_count": 0,
   "metadata": {
    "colab": {},
    "colab_type": "code",
    "id": "sZLRWI3-bzzV"
   },
   "outputs": [],
   "source": [
    "feature_cols = [ 'flagret', 'promos_compras','promos_enviadas',\n",
    "                'sucursales','promociones']\n",
    "X = cliente_camp_join_tree[feature_cols] # Features\n",
    "y = cliente_camp_join_tree['flag_compro'] # Target variable\n",
    "\n",
    "X_train_t, X_test_t, y_train_t, y_test_t = train_test_split(X, y, test_size=0.25) # 70% training and 30% test\n",
    "\n",
    "# Create Decision Tree classifer object\n",
    "clf = DecisionTreeClassifier(criterion=\"entropy\", max_depth=3)\n",
    "\n",
    "# Train Decision Tree Classifer\n",
    "clf = clf.fit(X_train_t,y_train_t)\n",
    "\n",
    "#Predict the response for test dataset\n",
    "y_pred_t = clf.predict(X_test_t)\n",
    "\n",
    "# Model Accuracy, how often is the classifier correct?\n",
    "print(\"Accuracy:\",metrics.accuracy_score(y_test_t, y_pred_t))\n",
    "\n",
    "dot_data = StringIO()\n",
    "export_graphviz(clf, out_file=dot_data,  \n",
    "                filled=True, rounded=True,\n",
    "                special_characters=True, feature_names = feature_cols,class_names=['0','1'])\n",
    "graph = pydotplus.graph_from_dot_data(dot_data.getvalue())  \n",
    "graph.write_png('diabetes.png')\n",
    "Image(graph.create_png())"
   ]
  },
  {
   "cell_type": "code",
   "execution_count": 0,
   "metadata": {
    "colab": {},
    "colab_type": "code",
    "id": "BU0AoBpPb3xq"
   },
   "outputs": [],
   "source": [
    "import pandas as pd\n",
    "import seaborn as sn\n",
    "import matplotlib.pyplot as plt\n",
    "\n",
    "cm_t = confusion_matrix(y_test_t, y_pred_t)\n",
    "\n",
    "with sns.axes_style(\"white\"):\n",
    "    f, ax = plt.subplots(figsize=(5,5))\n",
    "    ax = sns.heatmap(cm_t, \n",
    "                     square=True,\n",
    "                     cmap=\"Blues\",\n",
    "                     annot=True,\n",
    "                     fmt=\"d\",\n",
    "                     cbar=False)\n",
    "    #ax = sns.heatmap(c, mask=mask, vmax=.3, square=True,cmap=\"Blues\",annot=True,cbar=False)\n",
    "    ax.set_xticklabels(ax.get_xticklabels(), rotation=0, horizontalalignment='right')\n",
    "    ax.set_yticklabels(ax.get_yticklabels(), rotation=0, horizontalalignment='right')\n",
    "    #ax.set_xticklabels({\"negative\",\"positive\"}, rotation=0, horizontalalignment='right')\n",
    "    #ax.set_yticklabels({\"negative\",\"positive\"}, rotation=0, horizontalalignment='right')\n",
    "\n",
    "plt.show()"
   ]
  },
  {
   "cell_type": "markdown",
   "metadata": {
    "colab_type": "text",
    "id": "uLBwHvWXyv8C"
   },
   "source": [
    "##Redes neuronales"
   ]
  },
  {
   "cell_type": "code",
   "execution_count": 0,
   "metadata": {
    "colab": {},
    "colab_type": "code",
    "id": "_kZNXOab0iQO"
   },
   "outputs": [],
   "source": [
    "# first neural network with keras tutorial\n",
    "from numpy import loadtxt\n",
    "from keras.models import Sequential\n",
    "from keras.layers import Dense\n",
    "\n",
    "from keras.models import Model\n",
    "from keras.layers import Input\n",
    "from keras.layers import Dense\n",
    "\n",
    "from sklearn.neural_network import MLPClassifier\n",
    "from sklearn.model_selection import train_test_split\n",
    "from sklearn.metrics import accuracy_score\n",
    "from sklearn.metrics import confusion_matrix"
   ]
  },
  {
   "cell_type": "code",
   "execution_count": 0,
   "metadata": {
    "colab": {},
    "colab_type": "code",
    "id": "BwIk4p5Oyuw6"
   },
   "outputs": [],
   "source": [
    "cliente_camp_join_NN = pd.DataFrame({#'importeTotal':cliente_camp_join['importeTotal'],\n",
    "                                 'flagret':cliente_camp_join['flagret'],\n",
    "                                 'promos_compras':cliente_camp_join['promos_compras'],\n",
    "                                 'promos_enviadas':cliente_camp_join['promos_enviadas'],\n",
    "                                 'sucursales':cliente_camp_join['sucursales'],\n",
    "                                 'promociones':cliente_camp_join['promociones'],\n",
    "                                 'flag_compro':cliente_camp_join['flag_compro']\n",
    "                                 #'ClassVariable':diabetes_clear_0['ClassVariable']\n",
    "                                  }) "
   ]
  },
  {
   "cell_type": "code",
   "execution_count": 0,
   "metadata": {
    "colab": {},
    "colab_type": "code",
    "id": "9Aqt4iaXz0hi"
   },
   "outputs": [],
   "source": [
    "# split into input (X) and output (y) variables\n",
    "X = cliente_camp_join_NN.drop('flag_compro',axis=1)\n",
    "y = cliente_camp_join_NN['flag_compro']"
   ]
  },
  {
   "cell_type": "code",
   "execution_count": 0,
   "metadata": {
    "colab": {},
    "colab_type": "code",
    "id": "tnx8dBHO0UP9"
   },
   "outputs": [],
   "source": [
    "#hago el split en grupo de entrenamiento y test\n",
    "#https://scikit-learn.org/stable/modules/generated/sklearn.neural_network.MLPClassifier.html?highlight=mlpclassifier#sklearn.neural_network.MLPClassifier\n",
    "x_train, x_test, y_train, y_test = train_test_split(X, \n",
    "                                                y, \n",
    "                                                #train_size=0.80,\n",
    "                                                test_size=0.25\n",
    "                                                )"
   ]
  },
  {
   "cell_type": "code",
   "execution_count": 0,
   "metadata": {
    "colab": {},
    "colab_type": "code",
    "id": "JN9xRcGTBxTY"
   },
   "outputs": [],
   "source": [
    "clf = MLPClassifier(hidden_layer_sizes=(6,200,50), \n",
    "                    max_iter=200, \n",
    "                    #alpha=0.0001,\n",
    "                    solver='sgd', \n",
    "                    #verbose=10,  \n",
    "                    #random_state=21,\n",
    "                    #tol=0.000000001\n",
    "                    )"
   ]
  },
  {
   "cell_type": "code",
   "execution_count": 0,
   "metadata": {
    "colab": {},
    "colab_type": "code",
    "id": "vgSkLePQCGVW"
   },
   "outputs": [],
   "source": [
    "clf.fit(x_train, y_train)\n",
    "y_pred = clf.predict(x_test)"
   ]
  },
  {
   "cell_type": "code",
   "execution_count": 417,
   "metadata": {
    "colab": {
     "base_uri": "https://localhost:8080/",
     "height": 34
    },
    "colab_type": "code",
    "executionInfo": {
     "elapsed": 832,
     "status": "ok",
     "timestamp": 1590385129907,
     "user": {
      "displayName": "Max L",
      "photoUrl": "https://lh3.googleusercontent.com/a-/AOh14GiiImxghgDBo0bBEM3wY7O7xE308CM12cvL2L25OA=s64",
      "userId": "16489755529424491377"
     },
     "user_tz": 180
    },
    "id": "pWg7i_zeCiLl",
    "outputId": "f76ab72e-767d-4cb9-ca1a-c52e1500f59b"
   },
   "outputs": [
    {
     "data": {
      "text/plain": [
       "0.886292548298068"
      ]
     },
     "execution_count": 417,
     "metadata": {
      "tags": []
     },
     "output_type": "execute_result"
    }
   ],
   "source": [
    "accuracy_score(y_test, y_pred)"
   ]
  },
  {
   "cell_type": "code",
   "execution_count": 418,
   "metadata": {
    "colab": {
     "base_uri": "https://localhost:8080/",
     "height": 51
    },
    "colab_type": "code",
    "executionInfo": {
     "elapsed": 862,
     "status": "ok",
     "timestamp": 1590385131684,
     "user": {
      "displayName": "Max L",
      "photoUrl": "https://lh3.googleusercontent.com/a-/AOh14GiiImxghgDBo0bBEM3wY7O7xE308CM12cvL2L25OA=s64",
      "userId": "16489755529424491377"
     },
     "user_tz": 180
    },
    "id": "V7pIiGQRC8qc",
    "outputId": "3d47a354-de01-4381-d6ce-f8147b09a6ab"
   },
   "outputs": [
    {
     "data": {
      "text/plain": [
       "array([[4814,    1],\n",
       "       [ 617,    3]])"
      ]
     },
     "execution_count": 418,
     "metadata": {
      "tags": []
     },
     "output_type": "execute_result"
    }
   ],
   "source": [
    "cm = confusion_matrix(y_test, y_pred)\n",
    "cm"
   ]
  },
  {
   "cell_type": "code",
   "execution_count": 0,
   "metadata": {
    "colab": {},
    "colab_type": "code",
    "id": "ldo8zlPEDAOk"
   },
   "outputs": [],
   "source": [
    "sns.heatmap(cm, center=True)\n",
    "plt.show()"
   ]
  },
  {
   "cell_type": "code",
   "execution_count": 0,
   "metadata": {
    "colab": {},
    "colab_type": "code",
    "id": "M1kUPDNJCzkP"
   },
   "outputs": [],
   "source": [
    "import pandas as pd\n",
    "import seaborn as sn\n",
    "import matplotlib.pyplot as plt\n",
    "\n",
    "with sns.axes_style(\"white\"):\n",
    "    f, ax = plt.subplots(figsize=(5,5))\n",
    "    ax = sns.heatmap(cm, \n",
    "                     square=True,\n",
    "                     cmap=\"Blues\",\n",
    "                     annot=True,\n",
    "                     fmt=\"d\",\n",
    "                     cbar=False)\n",
    "    #ax = sns.heatmap(c, mask=mask, vmax=.3, square=True,cmap=\"Blues\",annot=True,cbar=False)\n",
    "    ax.set_xticklabels(ax.get_xticklabels(), rotation=0, horizontalalignment='right')\n",
    "    ax.set_yticklabels(ax.get_yticklabels(), rotation=0, horizontalalignment='right')\n",
    "    #ax.set_xticklabels({\"negative\",\"positive\"}, rotation=0, horizontalalignment='right')\n",
    "    #ax.set_yticklabels({\"negative\",\"positive\"}, rotation=0, horizontalalignment='right')\n",
    "\n",
    "plt.show()"
   ]
  },
  {
   "cell_type": "markdown",
   "metadata": {
    "colab_type": "text",
    "id": "_2z26Ca0Jml1"
   },
   "source": [
    "#4. Indicar la performance del/los modelos creados"
   ]
  },
  {
   "cell_type": "markdown",
   "metadata": {
    "colab_type": "text",
    "id": "RaiBB7w1KEv1"
   },
   "source": [
    "Si solo se evalua la \"Accuracy\" de los modelos, performa mejor la red neurona con 88 vs 84 del arbol.\n",
    "\n",
    "Pero el evaluar la matriz de confusion performa mejor el arbol, dado que tiene mas TP que la red, si bien ambos son malos, el arbol es menos malo.\n",
    "\n",
    "por el analisis de las variables se observan muy pocos casos que respondieran al estimulo de la promoción, entonces la distribución esta muy desbalanceada y tiene mas cantidad de resultados desfavorables que el buscado."
   ]
  }
 ],
 "metadata": {
  "colab": {
   "authorship_tag": "ABX9TyP/BZ1KXxvuOQpNGl9FokPW",
   "collapsed_sections": [],
   "name": "Actividad_2.ipynb",
   "provenance": []
  },
  "hide_input": false,
  "kernelspec": {
   "display_name": "Python 3",
   "language": "python",
   "name": "python3"
  },
  "language_info": {
   "codemirror_mode": {
    "name": "ipython",
    "version": 3
   },
   "file_extension": ".py",
   "mimetype": "text/x-python",
   "name": "python",
   "nbconvert_exporter": "python",
   "pygments_lexer": "ipython3",
   "version": "3.8.5"
  }
 },
 "nbformat": 4,
 "nbformat_minor": 1
}
