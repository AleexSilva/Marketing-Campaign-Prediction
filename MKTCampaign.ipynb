{
 "cells": [
  {
   "cell_type": "code",
   "execution_count": 2,
   "metadata": {},
   "outputs": [],
   "source": [
    "# Data import and exploratory \n",
    "\n",
    "import pandas as pd\n",
    "import numpy as np\n",
    "from datetime import datetime\n",
    "\n",
    "# Data visualization\n",
    "\n",
    "\n",
    "import matplotlib.pyplot as plt\n",
    "import seaborn as sns\n",
    "from mpl_toolkits.mplot3d import Axes3D\n",
    "\n",
    "# Creeting a cluster\n",
    "\n",
    "from sklearn.cluster import KMeans\n",
    "from sklearn import preprocessing\n",
    "from sklearn.preprocessing import StandardScaler\n",
    "from numpy import set_printoptions\n",
    "\n",
    "#from scipy import stats\n",
    "\n",
    "# Split the data and work with unbalanced class\n",
    "from sklearn.model_selection import train_test_split\n",
    "from imblearn.over_sampling import SMOTE\n",
    "\n",
    "# Model Creation\n",
    "\n",
    "from sklearn.linear_model import LogisticRegression\n",
    "from sklearn import tree\n",
    "from sklearn.neural_network import MLPClassifier\n",
    "from sklearn.ensemble import RandomForestClassifier\n",
    "from sklearn.naive_bayes import GaussianNB\n",
    "\n",
    "#Evaluate the models\n",
    "\n",
    "from sklearn.model_selection import cross_val_score\n",
    "from sklearn.metrics import confusion_matrix, roc_auc_score, roc_curve,precision_score, recall_score,accuracy_score,classification_report\n",
    "\n",
    "# setting  Jupyter outputs\n",
    "\n",
    "pd.set_option('display.max_columns',None)\n",
    "pd.set_option('display.max_rows',None)\n",
    "pd.options.display.float_format= '{:.2f}'.format"
   ]
  },
  {
   "cell_type": "code",
   "execution_count": 38,
   "metadata": {},
   "outputs": [],
   "source": [
    "# Import the dataset\n",
    "\n",
    "clients = pd.read_csv('Clients.csv')\n",
    "target = pd.read_csv('Clients-target.csv')\n",
    "clients_mov1 = pd.read_csv('Clients-mov-201604.201710.csv')\n",
    "clients_mov2 = pd.read_csv('Clients-mov-201711.201806.csv')"
   ]
  },
  {
   "cell_type": "code",
   "execution_count": 40,
   "metadata": {},
   "outputs": [
    {
     "output_type": "execute_result",
     "data": {
      "text/plain": [
       "           cid  branch_amount_1  branch_amount_2  branch_amount_3  \\\n",
       "0  55600018227             0.00             0.00           192.00   \n",
       "1  55600021052           144.69             0.00            16.19   \n",
       "2  55600021210             0.00           141.29           138.60   \n",
       "3  55600021232             0.00             0.00           380.18   \n",
       "4  55600028433             0.00           623.24           230.23   \n",
       "\n",
       "   branch_amount_4  promo  days_clients  branches  promos_sent  promos_buys  \\\n",
       "0             0.00     19           511         1            8            0   \n",
       "1             0.00      4            91         2            0            0   \n",
       "2             0.00     15           657         2            5            1   \n",
       "3             0.00     24           384         3            7            2   \n",
       "4             0.00     18           694         2           11            3   \n",
       "\n",
       "   prod_unit  flagret  buy_frecuency state  county      mid date_birth  \n",
       "0     106.88        0         511.00    MN     550  1821001   01/28/72  \n",
       "1      27.40        0          91.00    SC     290   284301   10/06/51  \n",
       "2      12.74        1          82.12    CA     947  1679802   05/12/71  \n",
       "3      35.49        0          96.00    AR     722  1726702   07/10/63  \n",
       "4      24.35        1          99.14    MD     207  2109903   08/29/55  "
      ],
      "text/html": "<div>\n<style scoped>\n    .dataframe tbody tr th:only-of-type {\n        vertical-align: middle;\n    }\n\n    .dataframe tbody tr th {\n        vertical-align: top;\n    }\n\n    .dataframe thead th {\n        text-align: right;\n    }\n</style>\n<table border=\"1\" class=\"dataframe\">\n  <thead>\n    <tr style=\"text-align: right;\">\n      <th></th>\n      <th>cid</th>\n      <th>branch_amount_1</th>\n      <th>branch_amount_2</th>\n      <th>branch_amount_3</th>\n      <th>branch_amount_4</th>\n      <th>promo</th>\n      <th>days_clients</th>\n      <th>branches</th>\n      <th>promos_sent</th>\n      <th>promos_buys</th>\n      <th>prod_unit</th>\n      <th>flagret</th>\n      <th>buy_frecuency</th>\n      <th>state</th>\n      <th>county</th>\n      <th>mid</th>\n      <th>date_birth</th>\n    </tr>\n  </thead>\n  <tbody>\n    <tr>\n      <th>0</th>\n      <td>55600018227</td>\n      <td>0.00</td>\n      <td>0.00</td>\n      <td>192.00</td>\n      <td>0.00</td>\n      <td>19</td>\n      <td>511</td>\n      <td>1</td>\n      <td>8</td>\n      <td>0</td>\n      <td>106.88</td>\n      <td>0</td>\n      <td>511.00</td>\n      <td>MN</td>\n      <td>550</td>\n      <td>1821001</td>\n      <td>01/28/72</td>\n    </tr>\n    <tr>\n      <th>1</th>\n      <td>55600021052</td>\n      <td>144.69</td>\n      <td>0.00</td>\n      <td>16.19</td>\n      <td>0.00</td>\n      <td>4</td>\n      <td>91</td>\n      <td>2</td>\n      <td>0</td>\n      <td>0</td>\n      <td>27.40</td>\n      <td>0</td>\n      <td>91.00</td>\n      <td>SC</td>\n      <td>290</td>\n      <td>284301</td>\n      <td>10/06/51</td>\n    </tr>\n    <tr>\n      <th>2</th>\n      <td>55600021210</td>\n      <td>0.00</td>\n      <td>141.29</td>\n      <td>138.60</td>\n      <td>0.00</td>\n      <td>15</td>\n      <td>657</td>\n      <td>2</td>\n      <td>5</td>\n      <td>1</td>\n      <td>12.74</td>\n      <td>1</td>\n      <td>82.12</td>\n      <td>CA</td>\n      <td>947</td>\n      <td>1679802</td>\n      <td>05/12/71</td>\n    </tr>\n    <tr>\n      <th>3</th>\n      <td>55600021232</td>\n      <td>0.00</td>\n      <td>0.00</td>\n      <td>380.18</td>\n      <td>0.00</td>\n      <td>24</td>\n      <td>384</td>\n      <td>3</td>\n      <td>7</td>\n      <td>2</td>\n      <td>35.49</td>\n      <td>0</td>\n      <td>96.00</td>\n      <td>AR</td>\n      <td>722</td>\n      <td>1726702</td>\n      <td>07/10/63</td>\n    </tr>\n    <tr>\n      <th>4</th>\n      <td>55600028433</td>\n      <td>0.00</td>\n      <td>623.24</td>\n      <td>230.23</td>\n      <td>0.00</td>\n      <td>18</td>\n      <td>694</td>\n      <td>2</td>\n      <td>11</td>\n      <td>3</td>\n      <td>24.35</td>\n      <td>1</td>\n      <td>99.14</td>\n      <td>MD</td>\n      <td>207</td>\n      <td>2109903</td>\n      <td>08/29/55</td>\n    </tr>\n  </tbody>\n</table>\n</div>"
     },
     "metadata": {},
     "execution_count": 40
    }
   ],
   "source": [
    "clients.head()"
   ]
  },
  {
   "cell_type": "code",
   "execution_count": 41,
   "metadata": {},
   "outputs": [
    {
     "output_type": "execute_result",
     "data": {
      "text/plain": [
       "           cid  last_month_buy  amount  payment_type  channel  buy  class  \\\n",
       "0  55600021210          201709  279.89             0        0    8     10   \n",
       "1  55600021232          201707  203.20             1        1    2      1   \n",
       "2  55600028433          201707  642.47             0        0    6      8   \n",
       "3  55600029142          201705  116.00             0        0    1      1   \n",
       "4  55600029445          201706  129.48             0        0    1      3   \n",
       "\n",
       "   coupons  items  \n",
       "0        0     13  \n",
       "1        0      3  \n",
       "2        0     22  \n",
       "3        0      2  \n",
       "4        0      3  "
      ],
      "text/html": "<div>\n<style scoped>\n    .dataframe tbody tr th:only-of-type {\n        vertical-align: middle;\n    }\n\n    .dataframe tbody tr th {\n        vertical-align: top;\n    }\n\n    .dataframe thead th {\n        text-align: right;\n    }\n</style>\n<table border=\"1\" class=\"dataframe\">\n  <thead>\n    <tr style=\"text-align: right;\">\n      <th></th>\n      <th>cid</th>\n      <th>last_month_buy</th>\n      <th>amount</th>\n      <th>payment_type</th>\n      <th>channel</th>\n      <th>buy</th>\n      <th>class</th>\n      <th>coupons</th>\n      <th>items</th>\n    </tr>\n  </thead>\n  <tbody>\n    <tr>\n      <th>0</th>\n      <td>55600021210</td>\n      <td>201709</td>\n      <td>279.89</td>\n      <td>0</td>\n      <td>0</td>\n      <td>8</td>\n      <td>10</td>\n      <td>0</td>\n      <td>13</td>\n    </tr>\n    <tr>\n      <th>1</th>\n      <td>55600021232</td>\n      <td>201707</td>\n      <td>203.20</td>\n      <td>1</td>\n      <td>1</td>\n      <td>2</td>\n      <td>1</td>\n      <td>0</td>\n      <td>3</td>\n    </tr>\n    <tr>\n      <th>2</th>\n      <td>55600028433</td>\n      <td>201707</td>\n      <td>642.47</td>\n      <td>0</td>\n      <td>0</td>\n      <td>6</td>\n      <td>8</td>\n      <td>0</td>\n      <td>22</td>\n    </tr>\n    <tr>\n      <th>3</th>\n      <td>55600029142</td>\n      <td>201705</td>\n      <td>116.00</td>\n      <td>0</td>\n      <td>0</td>\n      <td>1</td>\n      <td>1</td>\n      <td>0</td>\n      <td>2</td>\n    </tr>\n    <tr>\n      <th>4</th>\n      <td>55600029445</td>\n      <td>201706</td>\n      <td>129.48</td>\n      <td>0</td>\n      <td>0</td>\n      <td>1</td>\n      <td>3</td>\n      <td>0</td>\n      <td>3</td>\n    </tr>\n  </tbody>\n</table>\n</div>"
     },
     "metadata": {},
     "execution_count": 41
    }
   ],
   "source": [
    "clients_mov1.head()"
   ]
  },
  {
   "cell_type": "code",
   "execution_count": 42,
   "metadata": {},
   "outputs": [
    {
     "output_type": "execute_result",
     "data": {
      "text/plain": [
       "           cid   month  amount  payment_type  channel  buy  class  coupons  \\\n",
       "0  55600037073  201711   83.00             0        0    1      1        1   \n",
       "1  55600125936  201711  489.93             0        0    1      4        0   \n",
       "2  55600193584  201711  269.00             1        0    1      4        1   \n",
       "3  55600210784  201711  182.50             0        0    1      4        0   \n",
       "4  55600237820  201711   48.74             1        0    1      3        1   \n",
       "\n",
       "   items  \n",
       "0      1  \n",
       "1      7  \n",
       "2      9  \n",
       "3      8  \n",
       "4      4  "
      ],
      "text/html": "<div>\n<style scoped>\n    .dataframe tbody tr th:only-of-type {\n        vertical-align: middle;\n    }\n\n    .dataframe tbody tr th {\n        vertical-align: top;\n    }\n\n    .dataframe thead th {\n        text-align: right;\n    }\n</style>\n<table border=\"1\" class=\"dataframe\">\n  <thead>\n    <tr style=\"text-align: right;\">\n      <th></th>\n      <th>cid</th>\n      <th>month</th>\n      <th>amount</th>\n      <th>payment_type</th>\n      <th>channel</th>\n      <th>buy</th>\n      <th>class</th>\n      <th>coupons</th>\n      <th>items</th>\n    </tr>\n  </thead>\n  <tbody>\n    <tr>\n      <th>0</th>\n      <td>55600037073</td>\n      <td>201711</td>\n      <td>83.00</td>\n      <td>0</td>\n      <td>0</td>\n      <td>1</td>\n      <td>1</td>\n      <td>1</td>\n      <td>1</td>\n    </tr>\n    <tr>\n      <th>1</th>\n      <td>55600125936</td>\n      <td>201711</td>\n      <td>489.93</td>\n      <td>0</td>\n      <td>0</td>\n      <td>1</td>\n      <td>4</td>\n      <td>0</td>\n      <td>7</td>\n    </tr>\n    <tr>\n      <th>2</th>\n      <td>55600193584</td>\n      <td>201711</td>\n      <td>269.00</td>\n      <td>1</td>\n      <td>0</td>\n      <td>1</td>\n      <td>4</td>\n      <td>1</td>\n      <td>9</td>\n    </tr>\n    <tr>\n      <th>3</th>\n      <td>55600210784</td>\n      <td>201711</td>\n      <td>182.50</td>\n      <td>0</td>\n      <td>0</td>\n      <td>1</td>\n      <td>4</td>\n      <td>0</td>\n      <td>8</td>\n    </tr>\n    <tr>\n      <th>4</th>\n      <td>55600237820</td>\n      <td>201711</td>\n      <td>48.74</td>\n      <td>1</td>\n      <td>0</td>\n      <td>1</td>\n      <td>3</td>\n      <td>1</td>\n      <td>4</td>\n    </tr>\n  </tbody>\n</table>\n</div>"
     },
     "metadata": {},
     "execution_count": 42
    }
   ],
   "source": [
    "clients_mov2.head()"
   ]
  },
  {
   "cell_type": "code",
   "execution_count": 43,
   "metadata": {},
   "outputs": [
    {
     "output_type": "execute_result",
     "data": {
      "text/plain": [
       "           cid  flag_included  flag_buy\n",
       "0  55600018227              1         0\n",
       "1  55600021052              1         0\n",
       "2  55600021210              0         0\n",
       "3  55600021232              0         0\n",
       "4  55600028433              1         0"
      ],
      "text/html": "<div>\n<style scoped>\n    .dataframe tbody tr th:only-of-type {\n        vertical-align: middle;\n    }\n\n    .dataframe tbody tr th {\n        vertical-align: top;\n    }\n\n    .dataframe thead th {\n        text-align: right;\n    }\n</style>\n<table border=\"1\" class=\"dataframe\">\n  <thead>\n    <tr style=\"text-align: right;\">\n      <th></th>\n      <th>cid</th>\n      <th>flag_included</th>\n      <th>flag_buy</th>\n    </tr>\n  </thead>\n  <tbody>\n    <tr>\n      <th>0</th>\n      <td>55600018227</td>\n      <td>1</td>\n      <td>0</td>\n    </tr>\n    <tr>\n      <th>1</th>\n      <td>55600021052</td>\n      <td>1</td>\n      <td>0</td>\n    </tr>\n    <tr>\n      <th>2</th>\n      <td>55600021210</td>\n      <td>0</td>\n      <td>0</td>\n    </tr>\n    <tr>\n      <th>3</th>\n      <td>55600021232</td>\n      <td>0</td>\n      <td>0</td>\n    </tr>\n    <tr>\n      <th>4</th>\n      <td>55600028433</td>\n      <td>1</td>\n      <td>0</td>\n    </tr>\n  </tbody>\n</table>\n</div>"
     },
     "metadata": {},
     "execution_count": 43
    }
   ],
   "source": [
    "target.head()"
   ]
  },
  {
   "source": [
    "### Concatenate clients_mov1 and clients_mov2\n",
    "#### Rename columns: month_last_buy = month"
   ],
   "cell_type": "markdown",
   "metadata": {}
  },
  {
   "cell_type": "code",
   "execution_count": 44,
   "metadata": {},
   "outputs": [
    {
     "output_type": "execute_result",
     "data": {
      "text/plain": [
       "           cid  last_month_buy  amount  payment_type  channel  buy  class  \\\n",
       "0  55600021210       201709.00  279.89             0        0    8     10   \n",
       "1  55600021232       201707.00  203.20             1        1    2      1   \n",
       "2  55600028433       201707.00  642.47             0        0    6      8   \n",
       "3  55600029142       201705.00  116.00             0        0    1      1   \n",
       "4  55600029445       201706.00  129.48             0        0    1      3   \n",
       "\n",
       "   coupons  items  month  \n",
       "0        0     13    NaN  \n",
       "1        0      3    NaN  \n",
       "2        0     22    NaN  \n",
       "3        0      2    NaN  \n",
       "4        0      3    NaN  "
      ],
      "text/html": "<div>\n<style scoped>\n    .dataframe tbody tr th:only-of-type {\n        vertical-align: middle;\n    }\n\n    .dataframe tbody tr th {\n        vertical-align: top;\n    }\n\n    .dataframe thead th {\n        text-align: right;\n    }\n</style>\n<table border=\"1\" class=\"dataframe\">\n  <thead>\n    <tr style=\"text-align: right;\">\n      <th></th>\n      <th>cid</th>\n      <th>last_month_buy</th>\n      <th>amount</th>\n      <th>payment_type</th>\n      <th>channel</th>\n      <th>buy</th>\n      <th>class</th>\n      <th>coupons</th>\n      <th>items</th>\n      <th>month</th>\n    </tr>\n  </thead>\n  <tbody>\n    <tr>\n      <th>0</th>\n      <td>55600021210</td>\n      <td>201709.00</td>\n      <td>279.89</td>\n      <td>0</td>\n      <td>0</td>\n      <td>8</td>\n      <td>10</td>\n      <td>0</td>\n      <td>13</td>\n      <td>NaN</td>\n    </tr>\n    <tr>\n      <th>1</th>\n      <td>55600021232</td>\n      <td>201707.00</td>\n      <td>203.20</td>\n      <td>1</td>\n      <td>1</td>\n      <td>2</td>\n      <td>1</td>\n      <td>0</td>\n      <td>3</td>\n      <td>NaN</td>\n    </tr>\n    <tr>\n      <th>2</th>\n      <td>55600028433</td>\n      <td>201707.00</td>\n      <td>642.47</td>\n      <td>0</td>\n      <td>0</td>\n      <td>6</td>\n      <td>8</td>\n      <td>0</td>\n      <td>22</td>\n      <td>NaN</td>\n    </tr>\n    <tr>\n      <th>3</th>\n      <td>55600029142</td>\n      <td>201705.00</td>\n      <td>116.00</td>\n      <td>0</td>\n      <td>0</td>\n      <td>1</td>\n      <td>1</td>\n      <td>0</td>\n      <td>2</td>\n      <td>NaN</td>\n    </tr>\n    <tr>\n      <th>4</th>\n      <td>55600029445</td>\n      <td>201706.00</td>\n      <td>129.48</td>\n      <td>0</td>\n      <td>0</td>\n      <td>1</td>\n      <td>3</td>\n      <td>0</td>\n      <td>3</td>\n      <td>NaN</td>\n    </tr>\n  </tbody>\n</table>\n</div>"
     },
     "metadata": {},
     "execution_count": 44
    }
   ],
   "source": [
    "\n",
    "clients_mov1.rename(columns={'mes_ultima_compra':'mes'},inplace=True)\n",
    "\n",
    "data = ([clients_mov1,clients_mov2])\n",
    "clients_mov = pd.concat(data)\n",
    "clients_mov.head()"
   ]
  },
  {
   "cell_type": "code",
   "execution_count": 45,
   "metadata": {},
   "outputs": [
    {
     "output_type": "execute_result",
     "data": {
      "text/plain": [
       "(49917, 10)"
      ]
     },
     "metadata": {},
     "execution_count": 45
    }
   ],
   "source": [
    "clients_mov.shape"
   ]
  },
  {
   "source": [
    "### Merge clients and target"
   ],
   "cell_type": "markdown",
   "metadata": {}
  },
  {
   "cell_type": "code",
   "execution_count": 46,
   "metadata": {},
   "outputs": [
    {
     "output_type": "execute_result",
     "data": {
      "text/plain": [
       "           cid  branch_amount_1  branch_amount_2  branch_amount_3  \\\n",
       "0  55600018227             0.00             0.00           192.00   \n",
       "1  55600021052           144.69             0.00            16.19   \n",
       "2  55600021210             0.00           141.29           138.60   \n",
       "3  55600021232             0.00             0.00           380.18   \n",
       "4  55600028433             0.00           623.24           230.23   \n",
       "\n",
       "   branch_amount_4  promo  days_clients  branches  promos_sent  promos_buys  \\\n",
       "0             0.00     19           511         1            8            0   \n",
       "1             0.00      4            91         2            0            0   \n",
       "2             0.00     15           657         2            5            1   \n",
       "3             0.00     24           384         3            7            2   \n",
       "4             0.00     18           694         2           11            3   \n",
       "\n",
       "   prod_unit  flagret  buy_frecuency state  county      mid date_birth  \\\n",
       "0     106.88        0         511.00    MN     550  1821001   01/28/72   \n",
       "1      27.40        0          91.00    SC     290   284301   10/06/51   \n",
       "2      12.74        1          82.12    CA     947  1679802   05/12/71   \n",
       "3      35.49        0          96.00    AR     722  1726702   07/10/63   \n",
       "4      24.35        1          99.14    MD     207  2109903   08/29/55   \n",
       "\n",
       "   flag_included  flag_buy  \n",
       "0              1         0  \n",
       "1              1         0  \n",
       "2              0         0  \n",
       "3              0         0  \n",
       "4              1         0  "
      ],
      "text/html": "<div>\n<style scoped>\n    .dataframe tbody tr th:only-of-type {\n        vertical-align: middle;\n    }\n\n    .dataframe tbody tr th {\n        vertical-align: top;\n    }\n\n    .dataframe thead th {\n        text-align: right;\n    }\n</style>\n<table border=\"1\" class=\"dataframe\">\n  <thead>\n    <tr style=\"text-align: right;\">\n      <th></th>\n      <th>cid</th>\n      <th>branch_amount_1</th>\n      <th>branch_amount_2</th>\n      <th>branch_amount_3</th>\n      <th>branch_amount_4</th>\n      <th>promo</th>\n      <th>days_clients</th>\n      <th>branches</th>\n      <th>promos_sent</th>\n      <th>promos_buys</th>\n      <th>prod_unit</th>\n      <th>flagret</th>\n      <th>buy_frecuency</th>\n      <th>state</th>\n      <th>county</th>\n      <th>mid</th>\n      <th>date_birth</th>\n      <th>flag_included</th>\n      <th>flag_buy</th>\n    </tr>\n  </thead>\n  <tbody>\n    <tr>\n      <th>0</th>\n      <td>55600018227</td>\n      <td>0.00</td>\n      <td>0.00</td>\n      <td>192.00</td>\n      <td>0.00</td>\n      <td>19</td>\n      <td>511</td>\n      <td>1</td>\n      <td>8</td>\n      <td>0</td>\n      <td>106.88</td>\n      <td>0</td>\n      <td>511.00</td>\n      <td>MN</td>\n      <td>550</td>\n      <td>1821001</td>\n      <td>01/28/72</td>\n      <td>1</td>\n      <td>0</td>\n    </tr>\n    <tr>\n      <th>1</th>\n      <td>55600021052</td>\n      <td>144.69</td>\n      <td>0.00</td>\n      <td>16.19</td>\n      <td>0.00</td>\n      <td>4</td>\n      <td>91</td>\n      <td>2</td>\n      <td>0</td>\n      <td>0</td>\n      <td>27.40</td>\n      <td>0</td>\n      <td>91.00</td>\n      <td>SC</td>\n      <td>290</td>\n      <td>284301</td>\n      <td>10/06/51</td>\n      <td>1</td>\n      <td>0</td>\n    </tr>\n    <tr>\n      <th>2</th>\n      <td>55600021210</td>\n      <td>0.00</td>\n      <td>141.29</td>\n      <td>138.60</td>\n      <td>0.00</td>\n      <td>15</td>\n      <td>657</td>\n      <td>2</td>\n      <td>5</td>\n      <td>1</td>\n      <td>12.74</td>\n      <td>1</td>\n      <td>82.12</td>\n      <td>CA</td>\n      <td>947</td>\n      <td>1679802</td>\n      <td>05/12/71</td>\n      <td>0</td>\n      <td>0</td>\n    </tr>\n    <tr>\n      <th>3</th>\n      <td>55600021232</td>\n      <td>0.00</td>\n      <td>0.00</td>\n      <td>380.18</td>\n      <td>0.00</td>\n      <td>24</td>\n      <td>384</td>\n      <td>3</td>\n      <td>7</td>\n      <td>2</td>\n      <td>35.49</td>\n      <td>0</td>\n      <td>96.00</td>\n      <td>AR</td>\n      <td>722</td>\n      <td>1726702</td>\n      <td>07/10/63</td>\n      <td>0</td>\n      <td>0</td>\n    </tr>\n    <tr>\n      <th>4</th>\n      <td>55600028433</td>\n      <td>0.00</td>\n      <td>623.24</td>\n      <td>230.23</td>\n      <td>0.00</td>\n      <td>18</td>\n      <td>694</td>\n      <td>2</td>\n      <td>11</td>\n      <td>3</td>\n      <td>24.35</td>\n      <td>1</td>\n      <td>99.14</td>\n      <td>MD</td>\n      <td>207</td>\n      <td>2109903</td>\n      <td>08/29/55</td>\n      <td>1</td>\n      <td>0</td>\n    </tr>\n  </tbody>\n</table>\n</div>"
     },
     "metadata": {},
     "execution_count": 46
    }
   ],
   "source": [
    "data = pd.merge(clients,target,how='left')\n",
    "data.head()"
   ]
  },
  {
   "source": [
    "### Data cleaning and transformation"
   ],
   "cell_type": "markdown",
   "metadata": {}
  },
  {
   "cell_type": "code",
   "execution_count": 47,
   "metadata": {},
   "outputs": [],
   "source": [
    "from Data_clean import nullValues, MedMedMaxMin, pivot_table, uniqueRate, Zerovalues, neg\n",
    "from Data_clean import Analisis_crosstab_target_vs, catPlotCount, Boxplot"
   ]
  },
  {
   "cell_type": "code",
   "execution_count": 48,
   "metadata": {},
   "outputs": [
    {
     "output_type": "execute_result",
     "data": {
      "text/plain": [
       "                 TotalRecord  #Zeros  %Zeros\n",
       "branch_amount_1        21740   20665   95.00\n",
       "branch_amount_2        21740   12104   56.00\n",
       "branch_amount_4        21740   18856   87.00\n",
       "promo                  21740     827    4.00\n",
       "promos_sent            21740    3499   16.00\n",
       "promos_buys            21740   11710   54.00\n",
       "flagret                21740   14394   66.00"
      ],
      "text/html": "<div>\n<style scoped>\n    .dataframe tbody tr th:only-of-type {\n        vertical-align: middle;\n    }\n\n    .dataframe tbody tr th {\n        vertical-align: top;\n    }\n\n    .dataframe thead th {\n        text-align: right;\n    }\n</style>\n<table border=\"1\" class=\"dataframe\">\n  <thead>\n    <tr style=\"text-align: right;\">\n      <th></th>\n      <th>TotalRecord</th>\n      <th>#Zeros</th>\n      <th>%Zeros</th>\n    </tr>\n  </thead>\n  <tbody>\n    <tr>\n      <th>branch_amount_1</th>\n      <td>21740</td>\n      <td>20665</td>\n      <td>95.00</td>\n    </tr>\n    <tr>\n      <th>branch_amount_2</th>\n      <td>21740</td>\n      <td>12104</td>\n      <td>56.00</td>\n    </tr>\n    <tr>\n      <th>branch_amount_4</th>\n      <td>21740</td>\n      <td>18856</td>\n      <td>87.00</td>\n    </tr>\n    <tr>\n      <th>promo</th>\n      <td>21740</td>\n      <td>827</td>\n      <td>4.00</td>\n    </tr>\n    <tr>\n      <th>promos_sent</th>\n      <td>21740</td>\n      <td>3499</td>\n      <td>16.00</td>\n    </tr>\n    <tr>\n      <th>promos_buys</th>\n      <td>21740</td>\n      <td>11710</td>\n      <td>54.00</td>\n    </tr>\n    <tr>\n      <th>flagret</th>\n      <td>21740</td>\n      <td>14394</td>\n      <td>66.00</td>\n    </tr>\n  </tbody>\n</table>\n</div>"
     },
     "metadata": {},
     "execution_count": 48
    }
   ],
   "source": [
    "Zerovalues(clients)"
   ]
  },
  {
   "cell_type": "code",
   "execution_count": 6,
   "metadata": {},
   "outputs": [
    {
     "output_type": "execute_result",
     "data": {
      "text/plain": [
       "                  NullRecord  TotalRecord  CompleteRecord  Complete %  Empy %\n",
       "fecha_nacimiento        1806        21740           19934       91.69    8.31"
      ],
      "text/html": "<div>\n<style scoped>\n    .dataframe tbody tr th:only-of-type {\n        vertical-align: middle;\n    }\n\n    .dataframe tbody tr th {\n        vertical-align: top;\n    }\n\n    .dataframe thead th {\n        text-align: right;\n    }\n</style>\n<table border=\"1\" class=\"dataframe\">\n  <thead>\n    <tr style=\"text-align: right;\">\n      <th></th>\n      <th>NullRecord</th>\n      <th>TotalRecord</th>\n      <th>CompleteRecord</th>\n      <th>Complete %</th>\n      <th>Empy %</th>\n    </tr>\n  </thead>\n  <tbody>\n    <tr>\n      <th>fecha_nacimiento</th>\n      <td>1806</td>\n      <td>21740</td>\n      <td>19934</td>\n      <td>91.69</td>\n      <td>8.31</td>\n    </tr>\n  </tbody>\n</table>\n</div>"
     },
     "metadata": {},
     "execution_count": 6
    }
   ],
   "source": [
    "nullValues(clients)"
   ]
  },
  {
   "cell_type": "code",
   "execution_count": 49,
   "metadata": {},
   "outputs": [
    {
     "output_type": "execute_result",
     "data": {
      "text/plain": [
       "                 UniqueRate UniqueValue\n",
       "cid                    1.00       21740\n",
       "mid                    1.00       21740\n",
       "branch_amount_3        0.52       11358\n",
       "date_birth             0.50       10813\n",
       "prod_unit              0.30        6506\n",
       "branch_amount_2        0.29        6303\n",
       "buy_frecuency          0.19        4147\n",
       "branch_amount_4        0.09        1969\n",
       "county                 0.04         868\n",
       "branch_amount_1        0.04         769\n",
       "days_clients           0.03         693\n",
       "state                  0.00          51\n",
       "promo                  0.00          38\n",
       "branches               0.00          18\n",
       "promos_buys            0.00          12\n",
       "promos_sent            0.00          12\n",
       "flagret                0.00           2"
      ],
      "text/html": "<div>\n<style scoped>\n    .dataframe tbody tr th:only-of-type {\n        vertical-align: middle;\n    }\n\n    .dataframe tbody tr th {\n        vertical-align: top;\n    }\n\n    .dataframe thead th {\n        text-align: right;\n    }\n</style>\n<table border=\"1\" class=\"dataframe\">\n  <thead>\n    <tr style=\"text-align: right;\">\n      <th></th>\n      <th>UniqueRate</th>\n      <th>UniqueValue</th>\n    </tr>\n  </thead>\n  <tbody>\n    <tr>\n      <th>cid</th>\n      <td>1.00</td>\n      <td>21740</td>\n    </tr>\n    <tr>\n      <th>mid</th>\n      <td>1.00</td>\n      <td>21740</td>\n    </tr>\n    <tr>\n      <th>branch_amount_3</th>\n      <td>0.52</td>\n      <td>11358</td>\n    </tr>\n    <tr>\n      <th>date_birth</th>\n      <td>0.50</td>\n      <td>10813</td>\n    </tr>\n    <tr>\n      <th>prod_unit</th>\n      <td>0.30</td>\n      <td>6506</td>\n    </tr>\n    <tr>\n      <th>branch_amount_2</th>\n      <td>0.29</td>\n      <td>6303</td>\n    </tr>\n    <tr>\n      <th>buy_frecuency</th>\n      <td>0.19</td>\n      <td>4147</td>\n    </tr>\n    <tr>\n      <th>branch_amount_4</th>\n      <td>0.09</td>\n      <td>1969</td>\n    </tr>\n    <tr>\n      <th>county</th>\n      <td>0.04</td>\n      <td>868</td>\n    </tr>\n    <tr>\n      <th>branch_amount_1</th>\n      <td>0.04</td>\n      <td>769</td>\n    </tr>\n    <tr>\n      <th>days_clients</th>\n      <td>0.03</td>\n      <td>693</td>\n    </tr>\n    <tr>\n      <th>state</th>\n      <td>0.00</td>\n      <td>51</td>\n    </tr>\n    <tr>\n      <th>promo</th>\n      <td>0.00</td>\n      <td>38</td>\n    </tr>\n    <tr>\n      <th>branches</th>\n      <td>0.00</td>\n      <td>18</td>\n    </tr>\n    <tr>\n      <th>promos_buys</th>\n      <td>0.00</td>\n      <td>12</td>\n    </tr>\n    <tr>\n      <th>promos_sent</th>\n      <td>0.00</td>\n      <td>12</td>\n    </tr>\n    <tr>\n      <th>flagret</th>\n      <td>0.00</td>\n      <td>2</td>\n    </tr>\n  </tbody>\n</table>\n</div>"
     },
     "metadata": {},
     "execution_count": 49
    }
   ],
   "source": [
    "uniqueRate(clients,0)"
   ]
  },
  {
   "cell_type": "code",
   "execution_count": 51,
   "metadata": {},
   "outputs": [
    {
     "output_type": "execute_result",
     "data": {
      "text/plain": [
       "                UniqueRate UniqueValue\n",
       "amount                0.44       22108\n",
       "cid                   0.44       21741\n",
       "items                 0.00         135\n",
       "buy                   0.00          74\n",
       "class                 0.00          26\n",
       "coupons               0.00          13\n",
       "last_month_buy        0.00          11\n",
       "month                 0.00           8\n",
       "payment_type          0.00           2\n",
       "channel               0.00           2"
      ],
      "text/html": "<div>\n<style scoped>\n    .dataframe tbody tr th:only-of-type {\n        vertical-align: middle;\n    }\n\n    .dataframe tbody tr th {\n        vertical-align: top;\n    }\n\n    .dataframe thead th {\n        text-align: right;\n    }\n</style>\n<table border=\"1\" class=\"dataframe\">\n  <thead>\n    <tr style=\"text-align: right;\">\n      <th></th>\n      <th>UniqueRate</th>\n      <th>UniqueValue</th>\n    </tr>\n  </thead>\n  <tbody>\n    <tr>\n      <th>amount</th>\n      <td>0.44</td>\n      <td>22108</td>\n    </tr>\n    <tr>\n      <th>cid</th>\n      <td>0.44</td>\n      <td>21741</td>\n    </tr>\n    <tr>\n      <th>items</th>\n      <td>0.00</td>\n      <td>135</td>\n    </tr>\n    <tr>\n      <th>buy</th>\n      <td>0.00</td>\n      <td>74</td>\n    </tr>\n    <tr>\n      <th>class</th>\n      <td>0.00</td>\n      <td>26</td>\n    </tr>\n    <tr>\n      <th>coupons</th>\n      <td>0.00</td>\n      <td>13</td>\n    </tr>\n    <tr>\n      <th>last_month_buy</th>\n      <td>0.00</td>\n      <td>11</td>\n    </tr>\n    <tr>\n      <th>month</th>\n      <td>0.00</td>\n      <td>8</td>\n    </tr>\n    <tr>\n      <th>payment_type</th>\n      <td>0.00</td>\n      <td>2</td>\n    </tr>\n    <tr>\n      <th>channel</th>\n      <td>0.00</td>\n      <td>2</td>\n    </tr>\n  </tbody>\n</table>\n</div>"
     },
     "metadata": {},
     "execution_count": 51
    }
   ],
   "source": [
    "uniqueRate(clients_mov,0)"
   ]
  },
  {
   "cell_type": "code",
   "execution_count": null,
   "metadata": {},
   "outputs": [],
   "source": []
  }
 ],
 "metadata": {
  "hide_input": false,
  "kernelspec": {
   "name": "pythonjvsc74a57bd068085c160c24486091918865001a87af9229d3fb515dc7068b6f3f223a2e33f7",
   "display_name": "Python 3.9.4  ('venv': venv)"
  },
  "language_info": {
   "codemirror_mode": {
    "name": "ipython",
    "version": 3
   },
   "file_extension": ".py",
   "mimetype": "text/x-python",
   "name": "python",
   "nbconvert_exporter": "python",
   "pygments_lexer": "ipython3",
   "version": "3.9.4"
  },
  "metadata": {
   "interpreter": {
    "hash": "68085c160c24486091918865001a87af9229d3fb515dc7068b6f3f223a2e33f7"
   }
  }
 },
 "nbformat": 4,
 "nbformat_minor": 2
}